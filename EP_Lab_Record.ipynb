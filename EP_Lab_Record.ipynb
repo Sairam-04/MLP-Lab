{
  "nbformat": 4,
  "nbformat_minor": 0,
  "metadata": {
    "colab": {
      "name": "EP_Lab_Record.ipynb",
      "provenance": [],
      "collapsed_sections": [],
      "authorship_tag": "ABX9TyM3TqbElT/p8cgJMgWOTXfT",
      "include_colab_link": true
    },
    "kernelspec": {
      "name": "python3",
      "display_name": "Python 3"
    },
    "language_info": {
      "name": "python"
    }
  },
  "cells": [
    {
      "cell_type": "markdown",
      "metadata": {
        "id": "view-in-github",
        "colab_type": "text"
      },
      "source": [
        "<a href=\"https://colab.research.google.com/github/Sairam-04/MLP-Lab/blob/main/EP_Lab_Record.ipynb\" target=\"_parent\"><img src=\"https://colab.research.google.com/assets/colab-badge.svg\" alt=\"Open In Colab\"/></a>"
      ]
    },
    {
      "cell_type": "markdown",
      "metadata": {
        "id": "BxRWKX-bF9UH"
      },
      "source": [
        "#<h1>Exercise 1</h1>"
      ]
    },
    {
      "cell_type": "markdown",
      "metadata": {
        "id": "5gHAMK1sGBDw"
      },
      "source": [
        "<h2>b) Write a program to demonstrate the use of basic Data Types</h2>"
      ]
    },
    {
      "cell_type": "code",
      "metadata": {
        "colab": {
          "base_uri": "https://localhost:8080/"
        },
        "id": "_5Pw9OUjFsec",
        "outputId": "4b97100b-df23-42f6-9a6c-ee2da902e471"
      },
      "source": [
        "# Numeric datatypes\n",
        "a = 12\n",
        "b = 17.343\n",
        "c = 1+2j \n",
        "\n",
        "# Boolean datatypes\n",
        "d = True\n",
        "\n",
        "#Text type\n",
        "e = 'Python'\n",
        "\n",
        "#Sequence types\n",
        "f = [1,2,3,4]\n",
        "g = (1,2,3,4)\n",
        "\n",
        "#Set types\n",
        "h = {1,2,3,4}\n",
        "i = frozenset({1,2,3,4,5})\n",
        "\n",
        "#Mapping datatype\n",
        "j = {1:'a',2:'b',3:'c',4:'d'}\n",
        "\n",
        "#Printing the data types\n",
        "print(\"Numeric datatypes:\\n\")\n",
        "print(type(a))\n",
        "print(type(b))\n",
        "print(type(c))\n",
        "print(\"Boolean datatypes:\\n\")\n",
        "print(type(d))\n",
        "print(\"Text datatype:\\n\")\n",
        "print(type(e))\n",
        "print(\"Sequence datatype:\\n\")\n",
        "print(type(f))\n",
        "print(type(g))\n",
        "print(\"Set datatype:\\n\")\n",
        "print(type(h))\n",
        "print(type(i))\n",
        "print(\"Mapping datatype:\\n\")\n",
        "print(type(j))"
      ],
      "execution_count": null,
      "outputs": [
        {
          "output_type": "stream",
          "text": [
            "Numeric datatypes:\n",
            "\n",
            "<class 'int'>\n",
            "<class 'float'>\n",
            "<class 'complex'>\n",
            "Boolean datatypes:\n",
            "\n",
            "<class 'bool'>\n",
            "Text datatype:\n",
            "\n",
            "<class 'str'>\n",
            "Sequence datatype:\n",
            "\n",
            "<class 'list'>\n",
            "<class 'tuple'>\n",
            "Set datatype:\n",
            "\n",
            "<class 'set'>\n",
            "<class 'frozenset'>\n",
            "Mapping datatype:\n",
            "\n",
            "<class 'dict'>\n"
          ],
          "name": "stdout"
        }
      ]
    },
    {
      "cell_type": "markdown",
      "metadata": {
        "id": "qZiBnWZ6IySr"
      },
      "source": [
        "<h2>c) Write a program to demonstrate the Operators and Expressions</h2>"
      ]
    },
    {
      "cell_type": "markdown",
      "metadata": {
        "id": "z3_LpAbBjgZd"
      },
      "source": [
        "<h3>Arithmetic Operators</h3>"
      ]
    },
    {
      "cell_type": "code",
      "metadata": {
        "colab": {
          "base_uri": "https://localhost:8080/"
        },
        "id": "Or3iIxeLIJrx",
        "outputId": "fbec86ae-abd4-46e9-9f0b-a096c286f125"
      },
      "source": [
        "# Arithmetic Operators\n",
        "a = int(input(\"Enter a:\"))\n",
        "b = int(input(\"Enter b:\"))\n",
        "print(\"Arithmetic Operators\")\n",
        "print(\"Addition:\",a\\+b)\n",
        "print(\"Subraction:\",b-a)\n",
        "print(\"Multiplication:\",a*b)\n",
        "print(\"Division:\",a/b)\n",
        "print(\"Modulus:\",b%a)\n",
        "print(\"Power:\",a**b)\n"
      ],
      "execution_count": null,
      "outputs": [
        {
          "output_type": "stream",
          "text": [
            "Enter a:5\n",
            "Enter b:10\n",
            "Arithmetic Operators\n",
            "Addition: 15\n",
            "Subraction: 5\n",
            "Multiplication: 50\n",
            "Division: 0.5\n",
            "Modulus: 0\n",
            "Power: 9765625\n"
          ],
          "name": "stdout"
        }
      ]
    },
    {
      "cell_type": "markdown",
      "metadata": {
        "id": "iqu7nOjUjioK"
      },
      "source": [
        "<h3>Assignment Operators</h3>"
      ]
    },
    {
      "cell_type": "code",
      "metadata": {
        "colab": {
          "base_uri": "https://localhost:8080/"
        },
        "id": "OkoqikwDjNpc",
        "outputId": "aab06d80-cdfe-4a4c-8779-fd95b9677aaf"
      },
      "source": [
        "x = 15\n",
        "x+=2\n",
        "print(\"x+=2:\",x)\n",
        "x-=1\n",
        "print(\"x-=1:\",x)\n",
        "x*=2\n",
        "print(\"x*=2:\",x)\n",
        "x/=1\n",
        "print(\"x/=3:\",x)\n",
        "x**=3\n",
        "print(\"x**=3:\",x)\n",
        "x//=3\n",
        "print(\"x//=3:\",x)\n",
        "x = int(x)\n",
        "x|=10\n",
        "print(\"x|=10:\",x)\n",
        "x&=5\n",
        "print(\"x&=5:\",x)\n",
        "x^=3\n",
        "print(\"x^=3:\",x)\n",
        "x>>=2\n",
        "print(\"x>>=2:\",x)\n",
        "x<<=3\n",
        "print(\"x<<=3:\",x)\n",
        "x%=2\n",
        "print(\"x%=2:\",x)"
      ],
      "execution_count": null,
      "outputs": [
        {
          "output_type": "stream",
          "text": [
            "x+=2: 17\n",
            "x-=1: 16\n",
            "x*=2: 32\n",
            "x/=3: 32.0\n",
            "x**=3: 32768.0\n",
            "x//=3: 10922.0\n",
            "x|=10: 10922\n",
            "x&=5: 0\n",
            "x^=3: 3\n",
            "x>>=2: 0\n",
            "x<<=3: 0\n",
            "x%=2: 0\n"
          ],
          "name": "stdout"
        }
      ]
    },
    {
      "cell_type": "markdown",
      "metadata": {
        "id": "fdgWaiU8maS1"
      },
      "source": [
        "<h3>Conditional Operators</h3>"
      ]
    },
    {
      "cell_type": "code",
      "metadata": {
        "colab": {
          "base_uri": "https://localhost:8080/"
        },
        "id": "4f20F9ZJjNmj",
        "outputId": "20269fae-f4aa-4b73-cf41-a4987f6d484d"
      },
      "source": [
        "p = 100\n",
        "print(\"p==100:\",p==100)\n",
        "print(\"p!=1:\",p!=1)\n",
        "print(\"p<5:\",p<5)\n",
        "print(\"p>50:\",p>50)\n",
        "print(\"p>=500:\",p<=500)\n",
        "print(\"p>=15:\",p>=15)"
      ],
      "execution_count": null,
      "outputs": [
        {
          "output_type": "stream",
          "text": [
            "p==100: True\n",
            "p!=1: True\n",
            "p<5: False\n",
            "p>50: True\n",
            "p>=500: True\n",
            "p>=15: True\n"
          ],
          "name": "stdout"
        }
      ]
    },
    {
      "cell_type": "markdown",
      "metadata": {
        "id": "7GSSsw1mm9Qb"
      },
      "source": [
        "<h3>Logical Operators</h3>"
      ]
    },
    {
      "cell_type": "code",
      "metadata": {
        "colab": {
          "base_uri": "https://localhost:8080/"
        },
        "id": "UbOsHu2_jNjS",
        "outputId": "7b796f61-4421-4cc8-f4f6-ac1e23caf877"
      },
      "source": [
        "a = 100\n",
        "b = 15\n",
        "print(\"a<5 and b<15:\",a<5 and b<15)\n",
        "print(\"a<15 or b>100:\",a<150 or b>100)\n",
        "print(\"not a<1000:\", not a<1000)"
      ],
      "execution_count": null,
      "outputs": [
        {
          "output_type": "stream",
          "text": [
            "a<5 and b<15: False\n",
            "a<15 or b>100: True\n",
            "not a<1000: False\n"
          ],
          "name": "stdout"
        }
      ]
    },
    {
      "cell_type": "markdown",
      "metadata": {
        "id": "Xd6k6Z6swn84"
      },
      "source": [
        "<h3>Identity Operators</h3>"
      ]
    },
    {
      "cell_type": "code",
      "metadata": {
        "colab": {
          "base_uri": "https://localhost:8080/"
        },
        "id": "7tOVwIRqwdk8",
        "outputId": "01d97987-5993-4a65-d98f-87617c1c8b4d"
      },
      "source": [
        "x = 10\n",
        "print(\"x is 10\",x is 10)\n",
        "print(\"x is not 100:\", x is not 100)"
      ],
      "execution_count": null,
      "outputs": [
        {
          "output_type": "stream",
          "text": [
            "x is 10 True\n",
            "x is not 100: True\n"
          ],
          "name": "stdout"
        }
      ]
    },
    {
      "cell_type": "markdown",
      "metadata": {
        "id": "G_OLRhvLwy5a"
      },
      "source": [
        "<h3> Membership Operator</h3>"
      ]
    },
    {
      "cell_type": "code",
      "metadata": {
        "colab": {
          "base_uri": "https://localhost:8080/"
        },
        "id": "K-PodI_AwmVL",
        "outputId": "a7ea1fd9-2a7f-4653-8009-5507721186fd"
      },
      "source": [
        "r1 = \"AI\"\n",
        "print(\"I in r1:\", 'I' in r1)\n",
        "print(\"s not in r1:\",'s' not in r1)"
      ],
      "execution_count": null,
      "outputs": [
        {
          "output_type": "stream",
          "text": [
            "I in r1: True\n",
            "s not in r1: True\n"
          ],
          "name": "stdout"
        }
      ]
    },
    {
      "cell_type": "markdown",
      "metadata": {
        "id": "2ms0KkeVxL2s"
      },
      "source": [
        "<h3>Bitwise Operarors</h3>\n",
        "\n",
        "\n"
      ]
    },
    {
      "cell_type": "code",
      "metadata": {
        "colab": {
          "base_uri": "https://localhost:8080/"
        },
        "id": "sGSbCk4KxTTB",
        "outputId": "259094c4-3d23-4779-83c3-1d670f1f86cd"
      },
      "source": [
        "i = 14\n",
        "j = 4\n",
        "print(\"AND: i & j\",i&j)\n",
        "print(\"OR: i | j\",i|j)\n",
        "print(\"XOR: i ^ j\",i^j)\n",
        "print(\"Left Shift: i << 2\",i<<2)\n",
        "print(\"Right shift: j>>2\",j>>2)"
      ],
      "execution_count": null,
      "outputs": [
        {
          "output_type": "stream",
          "text": [
            "AND: i & j 4\n",
            "OR: i | j 14\n",
            "XOR: i ^ j 10\n",
            "Left Shift: i << 2 56\n",
            "Right shift: j>>2 1\n"
          ],
          "name": "stdout"
        }
      ]
    },
    {
      "cell_type": "markdown",
      "metadata": {
        "id": "pTKnvkcxKyCq"
      },
      "source": [
        "<h3>Expressions</h3>"
      ]
    },
    {
      "cell_type": "code",
      "metadata": {
        "colab": {
          "base_uri": "https://localhost:8080/"
        },
        "id": "VX8REX1GKpHn",
        "outputId": "613820d2-3602-492c-add9-2d1e87f32f4c"
      },
      "source": [
        "a=15\n",
        "b=5\n",
        "print('a+b*2-1+a+b:',a+b*2-1+a+b)\n",
        "print('a/b-1+a*b+a:',a/b-1+a*b+a)"
      ],
      "execution_count": null,
      "outputs": [
        {
          "output_type": "stream",
          "text": [
            "a+b*2-1+a+b: 44\n",
            "a/b-1+a*b+a: 92.0\n"
          ],
          "name": "stdout"
        }
      ]
    },
    {
      "cell_type": "markdown",
      "metadata": {
        "id": "WrpsgfNCLN_f"
      },
      "source": [
        "<h2>d) Write a program to demonstrate the Functions and parameter<br> passing Techniques.</h2>"
      ]
    },
    {
      "cell_type": "code",
      "metadata": {
        "colab": {
          "base_uri": "https://localhost:8080/"
        },
        "id": "nzWC4RH5K4Mj",
        "outputId": "e7e3010e-f217-48b3-bed4-4aca1731b2d1"
      },
      "source": [
        "# Function without parameter and without return type\n",
        "\n",
        "def fun():\n",
        "  print(\"This is function without parameter and without return type\")\n",
        "\n",
        "fun()"
      ],
      "execution_count": null,
      "outputs": [
        {
          "output_type": "stream",
          "text": [
            "This is function without parameter and without return type\n"
          ],
          "name": "stdout"
        }
      ]
    },
    {
      "cell_type": "code",
      "metadata": {
        "colab": {
          "base_uri": "https://localhost:8080/"
        },
        "id": "s8qw70qHLvRu",
        "outputId": "87f9198c-4943-41e0-97e8-d5baf5f5ce07"
      },
      "source": [
        "# Function with parameters without return type\n",
        "\n",
        "def addStrings(a,b):\n",
        "  c = a+b\n",
        "  print(\"Result of String Concatenation:\",c)\n",
        "\n",
        "addStrings('EP ','Lab')"
      ],
      "execution_count": null,
      "outputs": [
        {
          "output_type": "stream",
          "text": [
            "Result of String Concatenation: EP Lab\n"
          ],
          "name": "stdout"
        }
      ]
    },
    {
      "cell_type": "code",
      "metadata": {
        "id": "2dELe346MLXw",
        "colab": {
          "base_uri": "https://localhost:8080/"
        },
        "outputId": "57e54387-bad6-4a89-e511-27833f341293"
      },
      "source": [
        "# Function without parameters and with return type\n",
        "\n",
        "def subString():\n",
        "  x = \"Artificial Intelligence\"\n",
        "  x_len = len(x)//2\n",
        "  k = x[:x_len]\n",
        "  return k\n",
        "\n",
        "print('Sub string of the string:',subString())"
      ],
      "execution_count": null,
      "outputs": [
        {
          "output_type": "stream",
          "text": [
            "Sub string of the string: Artificial \n"
          ],
          "name": "stdout"
        }
      ]
    },
    {
      "cell_type": "code",
      "metadata": {
        "colab": {
          "base_uri": "https://localhost:8080/"
        },
        "id": "pjsu0OlJfd9W",
        "outputId": "dfa362b9-565c-4bff-ddac-d28d96f37b1a"
      },
      "source": [
        "# Function with parameters and with return type\n",
        "\n",
        "def words(x):\n",
        "  r = x.split()\n",
        "  return r\n",
        "\n",
        "print(\"Words in a Sentence:\",words(\"This is my python notebook\"))"
      ],
      "execution_count": null,
      "outputs": [
        {
          "output_type": "stream",
          "text": [
            "Words in a Sentence: ['This', 'is', 'my', 'python', 'notebook']\n"
          ],
          "name": "stdout"
        }
      ]
    },
    {
      "cell_type": "markdown",
      "metadata": {
        "id": "_8H_eMX2yJN6"
      },
      "source": [
        "#Exercise 2"
      ]
    },
    {
      "cell_type": "markdown",
      "metadata": {
        "id": "sXXBz7TcGdXN"
      },
      "source": [
        "<h3>a) i)Write a program to implement packages</h3>"
      ]
    },
    {
      "cell_type": "markdown",
      "metadata": {
        "id": "v0cYe5p3HwFf"
      },
      "source": [
        "<h3>Package App link:<a>https://drive.google.com/drive/folders/1yJPpUgNHt4SrPzZfNcJT7qbYLPp2MMbZ?usp=sharing</h3>"
      ]
    },
    {
      "cell_type": "markdown",
      "metadata": {
        "id": "lzlEup8qEy68"
      },
      "source": [
        "![Screenshot from 2021-07-18 15-34-04.png](data:image/png;base64,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)"
      ]
    },
    {
      "cell_type": "markdown",
      "metadata": {
        "id": "Av_DZBhqQjb6"
      },
      "source": [
        "<br><br><br><br><br>"
      ]
    },
    {
      "cell_type": "markdown",
      "metadata": {
        "id": "k7wZVrDAQlzu"
      },
      "source": [
        "![Screenshot from 2021-07-18 15-39-53.png](data:image/png;base64,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)"
      ]
    },
    {
      "cell_type": "code",
      "metadata": {
        "colab": {
          "base_uri": "https://localhost:8080/"
        },
        "id": "zxUxL7Oa528W",
        "outputId": "49b44d7e-ff60-4bd3-b79b-765e7ef4cbfe"
      },
      "source": [
        "!pip install mypackage"
      ],
      "execution_count": null,
      "outputs": [
        {
          "output_type": "stream",
          "text": [
            "Requirement already satisfied: mypackage in /usr/local/lib/python3.7/dist-packages (0.1)\n",
            "Requirement already satisfied: cmd2 in /usr/local/lib/python3.7/dist-packages (from mypackage) (2.1.2)\n",
            "Requirement already satisfied: colorama>=0.3.7 in /usr/local/lib/python3.7/dist-packages (from cmd2->mypackage) (0.4.4)\n",
            "Requirement already satisfied: wcwidth>=0.1.7 in /usr/local/lib/python3.7/dist-packages (from cmd2->mypackage) (0.2.5)\n",
            "Requirement already satisfied: importlib-metadata>=1.6.0 in /usr/local/lib/python3.7/dist-packages (from cmd2->mypackage) (4.6.1)\n",
            "Requirement already satisfied: attrs>=16.3.0 in /usr/local/lib/python3.7/dist-packages (from cmd2->mypackage) (21.2.0)\n",
            "Requirement already satisfied: typing-extensions in /usr/local/lib/python3.7/dist-packages (from cmd2->mypackage) (3.7.4.3)\n",
            "Requirement already satisfied: pyperclip>=1.6 in /usr/local/lib/python3.7/dist-packages (from cmd2->mypackage) (1.8.2)\n",
            "Requirement already satisfied: zipp>=0.5 in /usr/local/lib/python3.7/dist-packages (from importlib-metadata>=1.6.0->cmd2->mypackage) (3.5.0)\n"
          ],
          "name": "stdout"
        }
      ]
    },
    {
      "cell_type": "code",
      "metadata": {
        "colab": {
          "base_uri": "https://localhost:8080/"
        },
        "id": "L5oSM41I_Ait",
        "outputId": "01c581e7-2e83-436d-f1e5-4cacd1354eaa"
      },
      "source": [
        "import mypackage\n",
        "help(mypackage)\n"
      ],
      "execution_count": null,
      "outputs": [
        {
          "output_type": "stream",
          "text": [
            "Help on package mypackage:\n",
            "\n",
            "NAME\n",
            "    mypackage\n",
            "\n",
            "PACKAGE CONTENTS\n",
            "    functions\n",
            "    message\n",
            "\n",
            "FILE\n",
            "    /content/mypackage/__init__.py\n",
            "\n",
            "\n"
          ],
          "name": "stdout"
        }
      ]
    },
    {
      "cell_type": "code",
      "metadata": {
        "id": "lmDXgHws_zS-",
        "colab": {
          "base_uri": "https://localhost:8080/"
        },
        "outputId": "1ed78fe7-986b-4ac9-faf2-859a8a1c9909"
      },
      "source": [
        "x = 100\n",
        "y = 120\n",
        "print(\"Sum of two numbers:\",mypackage.sum(x,y))\n",
        "print(\"Average of two numbers:\",mypackage.average(x,y))\n",
        "print(\"Maximum of two numbers:\",mypackage.maxi(x,y))\n",
        "print(\"Minimum of two numbers:\",mypackage.mini(x,y))"
      ],
      "execution_count": null,
      "outputs": [
        {
          "output_type": "stream",
          "text": [
            "Sum of two numbers: 220\n",
            "Average of two numbers: 110.0\n",
            "Maximum of two numbers: 120\n",
            "Minimum of two numbers: 100\n"
          ],
          "name": "stdout"
        }
      ]
    },
    {
      "cell_type": "code",
      "metadata": {
        "colab": {
          "base_uri": "https://localhost:8080/"
        },
        "id": "LpFImT4WAPs0",
        "outputId": "9609a989-b591-46c9-a430-8e5c44acce82"
      },
      "source": [
        "from mypackage import message\n",
        "name = \"Sairam\"\n",
        "message.greet(name)\n",
        "message.msg(\"This is my Package\")"
      ],
      "execution_count": null,
      "outputs": [
        {
          "output_type": "stream",
          "text": [
            "Hello Sairam\n",
            "This is my Package\n"
          ],
          "name": "stdout"
        }
      ]
    },
    {
      "cell_type": "markdown",
      "metadata": {
        "id": "bbUiYQOjGzhe"
      },
      "source": [
        "<h3> a) ii) Write a program to implement Modules</h3>"
      ]
    },
    {
      "cell_type": "code",
      "metadata": {
        "colab": {
          "base_uri": "https://localhost:8080/"
        },
        "id": "g7q5kXzFAg3V",
        "outputId": "7d1fff8c-ad94-40ea-b694-5d081c8f5d5b"
      },
      "source": [
        "import functions\n",
        "help(functions)\n",
        "x = 100\n",
        "y = 120\n",
        "print(\"Sum of two numbers:\",functions.sum(x,y))\n",
        "print(\"Average of two numbers:\",functions .average(x,y))\n",
        "print(\"Maximum of two numbers:\",functions.maxi(x,y))\n",
        "print(\"Minimum of two numbers:\",functions.mini(x,y))"
      ],
      "execution_count": null,
      "outputs": [
        {
          "output_type": "stream",
          "text": [
            "Help on module functions:\n",
            "\n",
            "NAME\n",
            "    functions\n",
            "\n",
            "FUNCTIONS\n",
            "    average(a, b)\n",
            "    \n",
            "    maxi(a, b)\n",
            "    \n",
            "    mini(a, b)\n",
            "    \n",
            "    sum(a, b)\n",
            "\n",
            "FILE\n",
            "    /content/functions.py\n",
            "\n",
            "\n",
            "Sum of two numbers: 220\n",
            "Average of two numbers: 110.0\n",
            "Maximum of two numbers: 120\n",
            "Minimum of two numbers: 100\n"
          ],
          "name": "stdout"
        }
      ]
    },
    {
      "cell_type": "markdown",
      "metadata": {
        "id": "47zxU1iCIsqE"
      },
      "source": [
        "<h3> a) iii) Write a program to implement Built in Functions</h3>"
      ]
    },
    {
      "cell_type": "code",
      "metadata": {
        "colab": {
          "base_uri": "https://localhost:8080/"
        },
        "id": "MF6v88S6IG7Z",
        "outputId": "079f0126-f6d9-4164-9a5e-f0525aa002a5"
      },
      "source": [
        "print(\"abs(-10):\",abs(-10))\n",
        "print(\"bin(12):\",bin(12))\n",
        "print(\"chr(68):\",chr(68))\n",
        "print(dir(str))\n",
        "x = 'print(55)'\n",
        "print(\"eval:\")\n",
        "eval(x)\n",
        "\n",
        "a = 173.91\n",
        "print(\"round:\",round(a))\n",
        "\n",
        "print(\"ord:\",ord('x'))"
      ],
      "execution_count": null,
      "outputs": [
        {
          "output_type": "stream",
          "text": [
            "abs(-10): 10\n",
            "bin(12): 0b1100\n",
            "chr(68): D\n",
            "['__add__', '__class__', '__contains__', '__delattr__', '__dir__', '__doc__', '__eq__', '__format__', '__ge__', '__getattribute__', '__getitem__', '__getnewargs__', '__gt__', '__hash__', '__init__', '__init_subclass__', '__iter__', '__le__', '__len__', '__lt__', '__mod__', '__mul__', '__ne__', '__new__', '__reduce__', '__reduce_ex__', '__repr__', '__rmod__', '__rmul__', '__setattr__', '__sizeof__', '__str__', '__subclasshook__', 'capitalize', 'casefold', 'center', 'count', 'encode', 'endswith', 'expandtabs', 'find', 'format', 'format_map', 'index', 'isalnum', 'isalpha', 'isascii', 'isdecimal', 'isdigit', 'isidentifier', 'islower', 'isnumeric', 'isprintable', 'isspace', 'istitle', 'isupper', 'join', 'ljust', 'lower', 'lstrip', 'maketrans', 'partition', 'replace', 'rfind', 'rindex', 'rjust', 'rpartition', 'rsplit', 'rstrip', 'split', 'splitlines', 'startswith', 'strip', 'swapcase', 'title', 'translate', 'upper', 'zfill']\n",
            "eval:\n",
            "55\n",
            "round: 174\n",
            "ord: 120\n"
          ],
          "name": "stdout"
        }
      ]
    },
    {
      "cell_type": "markdown",
      "metadata": {
        "id": "UCxwYyo-NFCG"
      },
      "source": [
        "<h3>b) Write a Program to implement<br>\n",
        "i. List ii. Tuple iii. Dictionaries</h3>"
      ]
    },
    {
      "cell_type": "code",
      "metadata": {
        "colab": {
          "base_uri": "https://localhost:8080/"
        },
        "id": "LXzgtqdUKbzE",
        "outputId": "623e2c21-7880-402a-d92f-a72894e75482"
      },
      "source": [
        "# List\n",
        "\n",
        "li = list((1,2,3,4,5))\n",
        "print(type (li))\n",
        "print(li)\n",
        "\n",
        "# Tuples\n",
        "tuple1 = (1,2,3,4,5)\n",
        "print(type(tuple1))\n",
        "\n",
        "print(tuple1)\n",
        "\n",
        "# Dictionary\n",
        "stud = {'name':'Sairam','Rollno':'19911A3542','Branch':'AIE'}\n",
        "print(type(stud))\n",
        "print(stud)\n"
      ],
      "execution_count": null,
      "outputs": [
        {
          "output_type": "stream",
          "text": [
            "<class 'list'>\n",
            "[1, 2, 3, 4, 5]\n",
            "<class 'tuple'>\n",
            "(1, 2, 3, 4, 5)\n",
            "<class 'dict'>\n",
            "{'name': 'Sairam', 'Rollno': '19911A3542', 'Branch': 'AIE'}\n"
          ],
          "name": "stdout"
        }
      ]
    },
    {
      "cell_type": "markdown",
      "metadata": {
        "id": "R21gaOilNVES"
      },
      "source": [
        "<h3> c) Programs on Stings, String Operations and Regular Expressions</h3>"
      ]
    },
    {
      "cell_type": "code",
      "metadata": {
        "colab": {
          "base_uri": "https://localhost:8080/"
        },
        "id": "Mf3ks7vZM70b",
        "outputId": "c1f5965e-63ad-4481-f772-8213fe76ca36"
      },
      "source": [
        "# String\n",
        "string = \"The best things in life are free!\"\n",
        "print(\"string[1:5]:\",string[1:5])\n",
        "print(\"string[2:7]:\",string[2:7])\n",
        "print(\"string[:-1]:\",string[:-1])\n",
        "print(\"string[0:30:2]:\",string[0:30:2])\n",
        "print(\"string[::-1]:\",string[::-1])\n",
        "print(\"string[::]:\",string[::])"
      ],
      "execution_count": null,
      "outputs": [
        {
          "output_type": "stream",
          "text": [
            "string[1:5]: he b\n",
            "string[2:7]: e bes\n",
            "string[:-1]: The best things in life are free\n",
            "string[0:30:2]: Tebs hnsi ieaef\n",
            "string[::-1]: !eerf era efil ni sgniht tseb ehT\n",
            "string[::]: The best things in life are free!\n"
          ],
          "name": "stdout"
        }
      ]
    },
    {
      "cell_type": "code",
      "metadata": {
        "colab": {
          "base_uri": "https://localhost:8080/"
        },
        "id": "m9OXMD-MNffe",
        "outputId": "70ca201b-0009-4023-d53a-2b55d3f0b12b"
      },
      "source": [
        "# String Operations\n",
        "\n",
        "# Formatting\n",
        "age = 19\n",
        "s1 = \"My name is Sairam my age is \"+ str(age)\n",
        "print(s1)\n",
        "\n",
        "#upper\n",
        "string = \"The best things in life are free!\"\n",
        "print(string.upper())\n",
        "\n",
        "#lower\n",
        "print(string.lower())\n",
        "\n",
        "#count \n",
        "print(string.count('s',0,20))\n",
        "\n",
        "#Center\n",
        "string = \"  The best things in life are free!\"\n",
        "print(string.center(5))\n",
        "\n",
        "#find\n",
        "print(string.find('e',1,10))\n",
        "\n"
      ],
      "execution_count": null,
      "outputs": [
        {
          "output_type": "stream",
          "text": [
            "My name is Sairam my age is 19\n",
            "THE BEST THINGS IN LIFE ARE FREE!\n",
            "the best things in life are free!\n",
            "2\n",
            "  The best things in life are free!\n",
            "4\n"
          ],
          "name": "stdout"
        }
      ]
    },
    {
      "cell_type": "markdown",
      "metadata": {
        "id": "ptXpGJ0Rr5pg"
      },
      "source": [
        "<h3> Regular Expressions </h3>"
      ]
    },
    {
      "cell_type": "code",
      "metadata": {
        "id": "9YAUTF0ROShw",
        "colab": {
          "base_uri": "https://localhost:8080/"
        },
        "outputId": "3f92ead1-f805-4bb4-b027-4afeea00a1ba"
      },
      "source": [
        "#Regular Expressions\n",
        "import re\n",
        "\n",
        "string = \"Hello Hyderabad\"\n",
        "\n",
        "res = string.replace('Hyderabad','India')\n",
        "\n",
        "print(res)\n",
        "\n"
      ],
      "execution_count": null,
      "outputs": [
        {
          "output_type": "stream",
          "text": [
            "Hello India\n"
          ],
          "name": "stdout"
        }
      ]
    },
    {
      "cell_type": "code",
      "metadata": {
        "colab": {
          "base_uri": "https://localhost:8080/"
        },
        "id": "FiUat8Rrs7yo",
        "outputId": "dab1da8e-f4f8-461e-9113-f7b141d44438"
      },
      "source": [
        "string2 = \"Its raining outside\"\n",
        "\n",
        "res2 = re.search('rain',string2)\n",
        "if res2:\n",
        "  print(\"rain is found in the string\")\n",
        "\n",
        "else:\n",
        "  print(\"rain is not found in the string\") "
      ],
      "execution_count": null,
      "outputs": [
        {
          "output_type": "stream",
          "text": [
            "rain is found in the string\n"
          ],
          "name": "stdout"
        }
      ]
    },
    {
      "cell_type": "code",
      "metadata": {
        "colab": {
          "base_uri": "https://localhost:8080/"
        },
        "id": "jO96mZoJtbTx",
        "outputId": "86482b39-a44c-4f63-fc11-447ae8915a3a"
      },
      "source": [
        "txt = \"I love mango\"\n",
        "result = re.findall(\"o\", txt) \n",
        "print(result)"
      ],
      "execution_count": null,
      "outputs": [
        {
          "output_type": "stream",
          "text": [
            "['o', 'o']\n"
          ],
          "name": "stdout"
        }
      ]
    },
    {
      "cell_type": "code",
      "metadata": {
        "colab": {
          "base_uri": "https://localhost:8080/"
        },
        "id": "EcDZCMwBthvv",
        "outputId": "41e1f294-71f1-46e4-9546-da96e322b288"
      },
      "source": [
        "string3 = \"I live in Hyderabad\"\n",
        "res3 = re.split(' ',string3)\n",
        "\n",
        "print(res3)"
      ],
      "execution_count": null,
      "outputs": [
        {
          "output_type": "stream",
          "text": [
            "['I', 'live', 'in', 'Hyderabad']\n"
          ],
          "name": "stdout"
        }
      ]
    },
    {
      "cell_type": "code",
      "metadata": {
        "colab": {
          "base_uri": "https://localhost:8080/"
        },
        "id": "0OqKnXVhtzh6",
        "outputId": "f8b8c864-97d9-498a-8ece-d4a315425755"
      },
      "source": [
        "string4 = \"I live in India\"\n",
        "x = re.sub(\"\\s\", \"1\", string4)\n",
        "\n",
        "print(x)"
      ],
      "execution_count": null,
      "outputs": [
        {
          "output_type": "stream",
          "text": [
            "I1live1in1India\n"
          ],
          "name": "stdout"
        }
      ]
    },
    {
      "cell_type": "markdown",
      "metadata": {
        "id": "uRTaoyuhuZvq"
      },
      "source": [
        "#**Exercise 3**"
      ]
    },
    {
      "cell_type": "markdown",
      "metadata": {
        "id": "J-6i4qlTuhmI"
      },
      "source": [
        "<h3>a)Write a Program to implement Class and Object </h3> "
      ]
    },
    {
      "cell_type": "code",
      "metadata": {
        "colab": {
          "base_uri": "https://localhost:8080/"
        },
        "id": "d9Jblwp1ugpz",
        "outputId": "cf448207-2ae7-4e26-f402-68bb7abb093e"
      },
      "source": [
        "class student:\n",
        "  def __init__(self, name, rollno, branch):\n",
        "    self.name = name\n",
        "    self.rollno = rollno\n",
        "    self.branch = branch\n",
        "  \n",
        "  def display(self):\n",
        "    print('Name    ',' Rollno',' Branch')\n",
        "    print(self.name, self.rollno, self.branch)\n",
        "    print()\n",
        "\n",
        "\n",
        "s1 = student(\"Sairam\",42,'AIE')\n",
        "s2 = student(\"Hemanth\",18,'AIE')\n",
        "s3 = student(\"Shekhar\",20,'AIE')\n",
        "\n",
        "s1.display()\n",
        "s2.display()\n",
        "s3.display()"
      ],
      "execution_count": null,
      "outputs": [
        {
          "output_type": "stream",
          "text": [
            "Name      Rollno  Branch\n",
            "Sairam 42 AIE\n",
            "\n",
            "Name      Rollno  Branch\n",
            "Hemanth 18 AIE\n",
            "\n",
            "Name      Rollno  Branch\n",
            "Shekhar 20 AIE\n",
            "\n"
          ],
          "name": "stdout"
        }
      ]
    },
    {
      "cell_type": "markdown",
      "metadata": {
        "id": "pDViDSWMwCsC"
      },
      "source": [
        "<h3> b)Write a Program to implement Static and Instance methods,<br> Abstract Classes and Interfaces. </h3> "
      ]
    },
    {
      "cell_type": "markdown",
      "metadata": {
        "id": "QmvHSCufDnpG"
      },
      "source": [
        "<h4> Static and Instance method </h4>"
      ]
    },
    {
      "cell_type": "code",
      "metadata": {
        "colab": {
          "base_uri": "https://localhost:8080/"
        },
        "id": "zFj7FGervY9E",
        "outputId": "6531cae9-f3b7-4518-c358-5da5dfb61429"
      },
      "source": [
        "class Student:\n",
        "  def __init__(self,name,rollno):\n",
        "    self.name = name\n",
        "    self.rollno = rollno\n",
        "\n",
        "\n",
        "  #Instance method\n",
        "  def displayData(self):\n",
        "    print(\"Name of the Student:\",self.name)\n",
        "    print(\"Rollno of the Student:\",self.rollno)\n",
        "\n",
        "  #Static method\n",
        "  def studentsData(student):\n",
        "    print()\n",
        "    print(\"-\"*30)\n",
        "    for stud in student:\n",
        "      stud.displayData()\n",
        "      print(\"-\"*30)\n",
        "\n",
        "s_1 = Student(\"Sairam\",42)\n",
        "s_2 = Student(\"Hemanth\",18)\n",
        "s_3 = Student(\"Shekhar\",20)\n",
        "\n",
        "s_1.displayData()\n",
        "s_2.displayData()\n",
        "s_3.displayData()\n",
        "\n",
        "Student.studentsData([s_1,s_2,s_3])\n",
        "  "
      ],
      "execution_count": null,
      "outputs": [
        {
          "output_type": "stream",
          "text": [
            "Name of the Student: Sairam\n",
            "Rollno of the Student: 42\n",
            "Name of the Student: Hemanth\n",
            "Rollno of the Student: 18\n",
            "Name of the Student: Shekhar\n",
            "Rollno of the Student: 20\n",
            "\n",
            "------------------------------\n",
            "Name of the Student: Sairam\n",
            "Rollno of the Student: 42\n",
            "------------------------------\n",
            "Name of the Student: Hemanth\n",
            "Rollno of the Student: 18\n",
            "------------------------------\n",
            "Name of the Student: Shekhar\n",
            "Rollno of the Student: 20\n",
            "------------------------------\n"
          ],
          "name": "stdout"
        }
      ]
    },
    {
      "cell_type": "markdown",
      "metadata": {
        "id": "c4C-F4UUEZNQ"
      },
      "source": [
        "<h4>Abstract Class</h4>"
      ]
    },
    {
      "cell_type": "code",
      "metadata": {
        "colab": {
          "base_uri": "https://localhost:8080/"
        },
        "id": "ZRGJnN5WDTzj",
        "outputId": "55228acd-0291-4390-e56d-5b69f2c00465"
      },
      "source": [
        "from abc import ABC, abstractmethod\n",
        "\n",
        "class DL(ABC):\n",
        "  @abstractmethod\n",
        "  def desc(self):\n",
        "    pass\n",
        "\n",
        "class ANN(DL):\n",
        "  def desc(self):\n",
        "    print(\"ANN is a technique which use for classification and regression\")\n",
        "\n",
        "class CNN(DL):\n",
        "  def desc(self):\n",
        "    print(\"CNN is a technique which is used for Image data\")\n",
        "\n",
        "class RNN(DL):\n",
        "  def desc(self):\n",
        "    print(\"RNN is a technique which is mainly used in text data\")\n",
        "\n",
        "\n",
        "d1 = ANN()\n",
        "d1.desc()\n",
        "\n",
        "d2 = CNN()\n",
        "d2.desc()\n",
        "\n",
        "d3 = RNN()\n",
        "d3.desc()\n"
      ],
      "execution_count": null,
      "outputs": [
        {
          "output_type": "stream",
          "text": [
            "ANN is a technique which is particularly implemented in linear data and also used for classification\n",
            "CNN is a technique which is used for Image data\n",
            "RNN is a technique which is mainly used in text data\n"
          ],
          "name": "stdout"
        }
      ]
    },
    {
      "cell_type": "markdown",
      "metadata": {
        "id": "UBZf-btoGZuG"
      },
      "source": [
        "<h3>\n",
        "c) Write a program to compute distance between two points taking input<br> from the user (Pythagorean Theorem) \n",
        "\n",
        "</h3>"
      ]
    },
    {
      "cell_type": "code",
      "metadata": {
        "colab": {
          "base_uri": "https://localhost:8080/"
        },
        "id": "VjHvE4CCGV9X",
        "outputId": "110ac9aa-39fb-4033-d3cb-e41ea7808188"
      },
      "source": [
        "import math\n",
        "\n",
        "x1 = int(input(\"Enter x1: \"))\n",
        "y1 = int(input(\"Enter y1: \"))\n",
        "x2 = int(input(\"Enter x2: \"))\n",
        "y2 = int(input(\"Enter y2: \"))\n",
        "\n",
        "distance = math.sqrt((x1-x2)**2 + (y1-y2)**2)\n",
        "\n",
        "print(\"The distance between the points is:{}\".format(distance))"
      ],
      "execution_count": null,
      "outputs": [
        {
          "output_type": "stream",
          "text": [
            "Enter x1: 12\n",
            "Enter y1: 3\n",
            "Enter x2: 15\n",
            "Enter y2: 7\n",
            "The distance between the points is:5.0\n"
          ],
          "name": "stdout"
        }
      ]
    },
    {
      "cell_type": "markdown",
      "metadata": {
        "id": "S8emQHuqHPIT"
      },
      "source": [
        "#**Exercise 4**"
      ]
    },
    {
      "cell_type": "markdown",
      "metadata": {
        "id": "o1qRqGpuHRtQ"
      },
      "source": [
        "<h3> \n",
        "a) Write a program to implement Inheritance and Polymorphism\n",
        "</h3>"
      ]
    },
    {
      "cell_type": "code",
      "metadata": {
        "colab": {
          "base_uri": "https://localhost:8080/"
        },
        "id": "69eutL8OHKR_",
        "outputId": "41bd89b9-c069-4f5f-f090-2ea95f1cf98c"
      },
      "source": [
        "#Parent class\n",
        "class student:\n",
        "  def __init__(self,name,rollno):\n",
        "    self.name = name\n",
        "    self.rollno = rollno\n",
        "\n",
        "  def studentdata(self):\n",
        "    print()\n",
        "    print(\"-\"*30)\n",
        "    print(\"Name of the Student:\",self.name)\n",
        "    print(\"Rollno of the Student:\",self.rollno)\n",
        "\n",
        "#child class\n",
        "class Prevproject(student):\n",
        "  def __init__(self,name,rollno,prevproject):\n",
        "    student.__init__(self,name,rollno)\n",
        "    self.prevproject = prevproject\n",
        "\n",
        "#child class\n",
        "class currproject(student):\n",
        "  def __init__(self,name,rollno,currproject):\n",
        "    student.__init__(self,name,rollno)\n",
        "    self.currproject = currproject\n",
        "\n",
        "stud1 = Prevproject(\"Sairam\",542,\"Crop recommendation system\")\n",
        "stud1.studentdata()\n",
        "print(stud1.prevproject)\n",
        "\n",
        "stud2 = currproject(\"Ram\",500,\"Health Assistance\")\n",
        "stud2.studentdata()\n",
        "print(stud2.currproject)"
      ],
      "execution_count": null,
      "outputs": [
        {
          "output_type": "stream",
          "text": [
            "\n",
            "------------------------------\n",
            "Name of the Student: Sairam\n",
            "Rollno of the Student: 542\n",
            "Crop recommendation system\n",
            "\n",
            "------------------------------\n",
            "Name of the Student: Ram\n",
            "Rollno of the Student: 500\n",
            "Health Assistance\n"
          ],
          "name": "stdout"
        }
      ]
    },
    {
      "cell_type": "markdown",
      "metadata": {
        "id": "saZxCGI0L1jC"
      },
      "source": [
        "<h4>  \n",
        "b) Write a program to implement Files\n",
        "</h4>"
      ]
    },
    {
      "cell_type": "markdown",
      "metadata": {
        "id": "jS0inDwvMymv"
      },
      "source": [
        "<h4> Reading a text file </h4>"
      ]
    },
    {
      "cell_type": "code",
      "metadata": {
        "colab": {
          "base_uri": "https://localhost:8080/"
        },
        "id": "Sb4RZHTYJoAV",
        "outputId": "9ef60b13-7c2b-4786-d165-00a6e336bab9"
      },
      "source": [
        "fp = open('sample.txt','r')\n",
        "r = fp.read()\n",
        "print(r)\n",
        "fp.close()"
      ],
      "execution_count": null,
      "outputs": [
        {
          "output_type": "stream",
          "text": [
            "Artificial Neural Network\n",
            "Convolutional Neural Network\n",
            "Reccurent Neural Network\n"
          ],
          "name": "stdout"
        }
      ]
    },
    {
      "cell_type": "code",
      "metadata": {
        "colab": {
          "base_uri": "https://localhost:8080/"
        },
        "id": "ZtvqTeTmMh7g",
        "outputId": "508868ae-6bc1-40e0-c90c-e3ed960d29ac"
      },
      "source": [
        "fp = open('sample.txt','r')\n",
        "for line in fp.readlines():\n",
        "  print(line)\n",
        "\n",
        "fp.close()"
      ],
      "execution_count": null,
      "outputs": [
        {
          "output_type": "stream",
          "text": [
            "Artificial Neural Network\n",
            "\n",
            "Convolutional Neural Network\n",
            "\n",
            "Reccurent Neural Network\n"
          ],
          "name": "stdout"
        }
      ]
    },
    {
      "cell_type": "markdown",
      "metadata": {
        "id": "idVeNKqDM3w-"
      },
      "source": [
        "<h4> Writing text to a text file </h4>"
      ]
    },
    {
      "cell_type": "code",
      "metadata": {
        "id": "5goOiWKwMrpO"
      },
      "source": [
        "with open('write.txt','w') as fp:\n",
        "  fp.write(\"This is first line\\n\")\n",
        "  fp.write('This is Second line\\n')\n",
        "  fp.write('This is Third line\\n')\n"
      ],
      "execution_count": null,
      "outputs": []
    },
    {
      "cell_type": "code",
      "metadata": {
        "colab": {
          "base_uri": "https://localhost:8080/"
        },
        "id": "PGXHdgGFNPd5",
        "outputId": "78f417f6-5498-41c0-a08a-6ae85643aaa1"
      },
      "source": [
        "fp = open('write.txt','r')\n",
        "x = fp.read()\n",
        "print(x)"
      ],
      "execution_count": null,
      "outputs": [
        {
          "output_type": "stream",
          "text": [
            "This is first line\n",
            "This is Second line\n",
            "This is Third line\n",
            "\n"
          ],
          "name": "stdout"
        }
      ]
    },
    {
      "cell_type": "markdown",
      "metadata": {
        "id": "NMBeM1rOPWG0"
      },
      "source": [
        "<h4> \n",
        "Appending text to an existing text file\n",
        "</h4>"
      ]
    },
    {
      "cell_type": "code",
      "metadata": {
        "colab": {
          "base_uri": "https://localhost:8080/"
        },
        "id": "YyOdJ56tNYf9",
        "outputId": "f42a44eb-57cb-4647-9e9e-994df6654b1b"
      },
      "source": [
        "#appending\n",
        "\n",
        "with open(\"file1.txt\",'a') as fp:\n",
        "  fp.write(\"ML\\n\")\n",
        "  fp.write(\"DL\\n\")\n",
        "\n",
        "with open('file1.txt','r') as fp:\n",
        "  print(fp.read())"
      ],
      "execution_count": null,
      "outputs": [
        {
          "output_type": "stream",
          "text": [
            "ML\n",
            "DL\n",
            "\n"
          ],
          "name": "stdout"
        }
      ]
    },
    {
      "cell_type": "markdown",
      "metadata": {
        "id": "bQQewXIpQYrv"
      },
      "source": [
        "<h3>\n",
        "c) Write a program to illustrate Handling\n",
        "</h3>"
      ]
    },
    {
      "cell_type": "markdown",
      "metadata": {
        "id": "50mDD9r7Qb9z"
      },
      "source": [
        "Try-Except"
      ]
    },
    {
      "cell_type": "code",
      "metadata": {
        "colab": {
          "base_uri": "https://localhost:8080/"
        },
        "id": "yemOeO44PzB1",
        "outputId": "c343c9fb-727a-40f1-f5a6-34bd3e07c219"
      },
      "source": [
        "a = input('Enter a:')\n",
        "try:\n",
        "  print(int(a)*2)\n",
        "except:\n",
        "  print(\"Enter numeric value\")"
      ],
      "execution_count": null,
      "outputs": [
        {
          "output_type": "stream",
          "text": [
            "Enter a:c\n",
            "Enter numeric value\n"
          ],
          "name": "stdout"
        }
      ]
    },
    {
      "cell_type": "code",
      "metadata": {
        "colab": {
          "base_uri": "https://localhost:8080/"
        },
        "id": "tXC1CwuaQu15",
        "outputId": "6fe412f1-d7bf-4c23-b005-36679d75b391"
      },
      "source": [
        "try:\n",
        "  print(o)\n",
        "except NameError:\n",
        "  print(\"Error Variable is not defined\")\n",
        "finally:\n",
        "  print(\"End\")\n"
      ],
      "execution_count": null,
      "outputs": [
        {
          "output_type": "stream",
          "text": [
            "Error Variable is not defined\n",
            "End\n"
          ],
          "name": "stdout"
        }
      ]
    },
    {
      "cell_type": "markdown",
      "metadata": {
        "id": "511WV9UPRXNJ"
      },
      "source": [
        "Raising an exception"
      ]
    },
    {
      "cell_type": "code",
      "metadata": {
        "colab": {
          "base_uri": "https://localhost:8080/"
        },
        "id": "qS7ANMRKRKzz",
        "outputId": "4bed567d-b2ef-471d-f5e8-7812eafb093c"
      },
      "source": [
        "s = input(\"Enter alpha numeric string: \")\n",
        "\n",
        "if not s.isalnum():\n",
        "  raise Exception(\"Only alpha numeric character are allowed\")"
      ],
      "execution_count": null,
      "outputs": [
        {
          "output_type": "stream",
          "text": [
            "Enter alpha numeric string: adc12\n"
          ],
          "name": "stdout"
        }
      ]
    },
    {
      "cell_type": "markdown",
      "metadata": {
        "id": "lpEKHjuJRZhV"
      },
      "source": [
        "#**Exercise 5**"
      ]
    },
    {
      "cell_type": "markdown",
      "metadata": {
        "id": "zCBSxiS0RcxE"
      },
      "source": [
        "<h3>\n",
        "a) Write a program using scikit-learn to implement K-means Clustering\n",
        "</h3>"
      ]
    },
    {
      "cell_type": "markdown",
      "metadata": {
        "id": "77h9e8CoTnaP"
      },
      "source": [
        "Importing the packages"
      ]
    },
    {
      "cell_type": "code",
      "metadata": {
        "id": "bvFTgHuTRUE_"
      },
      "source": [
        "from sklearn.cluster import KMeans\n",
        "import pandas as pd\n",
        "from sklearn.preprocessing import MinMaxScaler\n",
        "from matplotlib import pyplot as plt"
      ],
      "execution_count": null,
      "outputs": []
    },
    {
      "cell_type": "markdown",
      "metadata": {
        "id": "UpDMug4oSGJC"
      },
      "source": [
        "Dataset Link: <a href = \"https://drive.google.com/file/d/1BkrLHkmttIaKLULdFKANd9B2X3ere9d7/view?usp=sharing\"  >income.csv</a>"
      ]
    },
    {
      "cell_type": "code",
      "metadata": {
        "colab": {
          "base_uri": "https://localhost:8080/",
          "height": 195
        },
        "id": "mzBBxYjuRrGo",
        "outputId": "a894225f-90c8-4f84-9fd4-4c33439296e1"
      },
      "source": [
        "df = pd.read_csv(\"income.csv\")\n",
        "df.head()\n"
      ],
      "execution_count": null,
      "outputs": [
        {
          "output_type": "execute_result",
          "data": {
            "text/html": [
              "<div>\n",
              "<style scoped>\n",
              "    .dataframe tbody tr th:only-of-type {\n",
              "        vertical-align: middle;\n",
              "    }\n",
              "\n",
              "    .dataframe tbody tr th {\n",
              "        vertical-align: top;\n",
              "    }\n",
              "\n",
              "    .dataframe thead th {\n",
              "        text-align: right;\n",
              "    }\n",
              "</style>\n",
              "<table border=\"1\" class=\"dataframe\">\n",
              "  <thead>\n",
              "    <tr style=\"text-align: right;\">\n",
              "      <th></th>\n",
              "      <th>Name</th>\n",
              "      <th>Age</th>\n",
              "      <th>Income($)</th>\n",
              "    </tr>\n",
              "  </thead>\n",
              "  <tbody>\n",
              "    <tr>\n",
              "      <th>0</th>\n",
              "      <td>Rob</td>\n",
              "      <td>27</td>\n",
              "      <td>70000</td>\n",
              "    </tr>\n",
              "    <tr>\n",
              "      <th>1</th>\n",
              "      <td>Michael</td>\n",
              "      <td>29</td>\n",
              "      <td>90000</td>\n",
              "    </tr>\n",
              "    <tr>\n",
              "      <th>2</th>\n",
              "      <td>Mohan</td>\n",
              "      <td>29</td>\n",
              "      <td>61000</td>\n",
              "    </tr>\n",
              "    <tr>\n",
              "      <th>3</th>\n",
              "      <td>Ismail</td>\n",
              "      <td>28</td>\n",
              "      <td>60000</td>\n",
              "    </tr>\n",
              "    <tr>\n",
              "      <th>4</th>\n",
              "      <td>Kory</td>\n",
              "      <td>42</td>\n",
              "      <td>150000</td>\n",
              "    </tr>\n",
              "  </tbody>\n",
              "</table>\n",
              "</div>"
            ],
            "text/plain": [
              "      Name  Age  Income($)\n",
              "0      Rob   27      70000\n",
              "1  Michael   29      90000\n",
              "2    Mohan   29      61000\n",
              "3   Ismail   28      60000\n",
              "4     Kory   42     150000"
            ]
          },
          "metadata": {
            "tags": []
          },
          "execution_count": 74
        }
      ]
    },
    {
      "cell_type": "markdown",
      "metadata": {
        "id": "RJwAF56YTrui"
      },
      "source": [
        "Creating the Kmeans object and fitting the data in the object"
      ]
    },
    {
      "cell_type": "code",
      "metadata": {
        "colab": {
          "base_uri": "https://localhost:8080/"
        },
        "id": "EfbCOCOeSmrd",
        "outputId": "30952663-758a-4eed-bc24-6dcf28d25680"
      },
      "source": [
        "km = KMeans(n_clusters=3)\n",
        "y_predicted = km.fit_predict(df[['Age','Income($)']])\n",
        "y_predicted"
      ],
      "execution_count": null,
      "outputs": [
        {
          "output_type": "execute_result",
          "data": {
            "text/plain": [
              "array([2, 2, 0, 0, 1, 1, 1, 1, 1, 1, 1, 0, 0, 0, 0, 0, 0, 0, 0, 2, 2, 0],\n",
              "      dtype=int32)"
            ]
          },
          "metadata": {
            "tags": []
          },
          "execution_count": 75
        }
      ]
    },
    {
      "cell_type": "markdown",
      "metadata": {
        "id": "2fsDKnQ3TufY"
      },
      "source": [
        "Predicting the clusters"
      ]
    },
    {
      "cell_type": "code",
      "metadata": {
        "colab": {
          "base_uri": "https://localhost:8080/",
          "height": 195
        },
        "id": "Zdncqrr-SqJ4",
        "outputId": "f6b1e66b-f376-4ef6-f836-7371af67c6cf"
      },
      "source": [
        "df['cluster']=y_predicted\n",
        "df.head()"
      ],
      "execution_count": null,
      "outputs": [
        {
          "output_type": "execute_result",
          "data": {
            "text/html": [
              "<div>\n",
              "<style scoped>\n",
              "    .dataframe tbody tr th:only-of-type {\n",
              "        vertical-align: middle;\n",
              "    }\n",
              "\n",
              "    .dataframe tbody tr th {\n",
              "        vertical-align: top;\n",
              "    }\n",
              "\n",
              "    .dataframe thead th {\n",
              "        text-align: right;\n",
              "    }\n",
              "</style>\n",
              "<table border=\"1\" class=\"dataframe\">\n",
              "  <thead>\n",
              "    <tr style=\"text-align: right;\">\n",
              "      <th></th>\n",
              "      <th>Name</th>\n",
              "      <th>Age</th>\n",
              "      <th>Income($)</th>\n",
              "      <th>cluster</th>\n",
              "    </tr>\n",
              "  </thead>\n",
              "  <tbody>\n",
              "    <tr>\n",
              "      <th>0</th>\n",
              "      <td>Rob</td>\n",
              "      <td>27</td>\n",
              "      <td>70000</td>\n",
              "      <td>2</td>\n",
              "    </tr>\n",
              "    <tr>\n",
              "      <th>1</th>\n",
              "      <td>Michael</td>\n",
              "      <td>29</td>\n",
              "      <td>90000</td>\n",
              "      <td>2</td>\n",
              "    </tr>\n",
              "    <tr>\n",
              "      <th>2</th>\n",
              "      <td>Mohan</td>\n",
              "      <td>29</td>\n",
              "      <td>61000</td>\n",
              "      <td>0</td>\n",
              "    </tr>\n",
              "    <tr>\n",
              "      <th>3</th>\n",
              "      <td>Ismail</td>\n",
              "      <td>28</td>\n",
              "      <td>60000</td>\n",
              "      <td>0</td>\n",
              "    </tr>\n",
              "    <tr>\n",
              "      <th>4</th>\n",
              "      <td>Kory</td>\n",
              "      <td>42</td>\n",
              "      <td>150000</td>\n",
              "      <td>1</td>\n",
              "    </tr>\n",
              "  </tbody>\n",
              "</table>\n",
              "</div>"
            ],
            "text/plain": [
              "      Name  Age  Income($)  cluster\n",
              "0      Rob   27      70000        2\n",
              "1  Michael   29      90000        2\n",
              "2    Mohan   29      61000        0\n",
              "3   Ismail   28      60000        0\n",
              "4     Kory   42     150000        1"
            ]
          },
          "metadata": {
            "tags": []
          },
          "execution_count": 76
        }
      ]
    },
    {
      "cell_type": "markdown",
      "metadata": {
        "id": "Wp4LtUwoT8Tp"
      },
      "source": [
        "Scaling the data"
      ]
    },
    {
      "cell_type": "code",
      "metadata": {
        "id": "OtOvi5Y6Sscj"
      },
      "source": [
        "scaler = MinMaxScaler()\n",
        "\n",
        "scaler.fit(df[['Income($)']])\n",
        "df['Income($)'] = scaler.transform(df[['Income($)']])\n",
        "\n",
        "scaler.fit(df[['Age']])\n",
        "df['Age'] = scaler.transform(df[['Age']])"
      ],
      "execution_count": null,
      "outputs": []
    },
    {
      "cell_type": "markdown",
      "metadata": {
        "id": "JDTtEzThT95Y"
      },
      "source": [
        "Fitting the model"
      ]
    },
    {
      "cell_type": "code",
      "metadata": {
        "colab": {
          "base_uri": "https://localhost:8080/"
        },
        "id": "iSW1450pSwNd",
        "outputId": "231f5ab0-8c12-4a70-fd7e-a49526c64994"
      },
      "source": [
        "\n",
        "km = KMeans(n_clusters=3)\n",
        "km.fit(df[['Age','Income($)']])"
      ],
      "execution_count": null,
      "outputs": [
        {
          "output_type": "execute_result",
          "data": {
            "text/plain": [
              "KMeans(algorithm='auto', copy_x=True, init='k-means++', max_iter=300,\n",
              "       n_clusters=3, n_init=10, n_jobs=None, precompute_distances='auto',\n",
              "       random_state=None, tol=0.0001, verbose=0)"
            ]
          },
          "metadata": {
            "tags": []
          },
          "execution_count": 81
        }
      ]
    },
    {
      "cell_type": "markdown",
      "metadata": {
        "id": "BfbjPTnIT_gA"
      },
      "source": [
        "Predicting the clusters for scaled values"
      ]
    },
    {
      "cell_type": "code",
      "metadata": {
        "colab": {
          "base_uri": "https://localhost:8080/"
        },
        "id": "EOF04X7qTQDM",
        "outputId": "9de77f26-a85b-4baa-a389-4ab3fb4f5456"
      },
      "source": [
        "pred = km.predict(df[['Age','Income($)']])\n",
        "pred"
      ],
      "execution_count": null,
      "outputs": [
        {
          "output_type": "execute_result",
          "data": {
            "text/plain": [
              "array([0, 0, 0, 0, 1, 1, 1, 1, 1, 1, 1, 0, 0, 0, 0, 0, 2, 2, 2, 2, 2, 2],\n",
              "      dtype=int32)"
            ]
          },
          "metadata": {
            "tags": []
          },
          "execution_count": 82
        }
      ]
    },
    {
      "cell_type": "code",
      "metadata": {
        "colab": {
          "base_uri": "https://localhost:8080/",
          "height": 195
        },
        "id": "lS-kllwkS283",
        "outputId": "e6e93202-4d4b-4b78-aa85-c2ad36ac44ca"
      },
      "source": [
        "\n",
        "df['cluster']=pred\n",
        "df.head()"
      ],
      "execution_count": null,
      "outputs": [
        {
          "output_type": "execute_result",
          "data": {
            "text/html": [
              "<div>\n",
              "<style scoped>\n",
              "    .dataframe tbody tr th:only-of-type {\n",
              "        vertical-align: middle;\n",
              "    }\n",
              "\n",
              "    .dataframe tbody tr th {\n",
              "        vertical-align: top;\n",
              "    }\n",
              "\n",
              "    .dataframe thead th {\n",
              "        text-align: right;\n",
              "    }\n",
              "</style>\n",
              "<table border=\"1\" class=\"dataframe\">\n",
              "  <thead>\n",
              "    <tr style=\"text-align: right;\">\n",
              "      <th></th>\n",
              "      <th>Name</th>\n",
              "      <th>Age</th>\n",
              "      <th>Income($)</th>\n",
              "      <th>cluster</th>\n",
              "    </tr>\n",
              "  </thead>\n",
              "  <tbody>\n",
              "    <tr>\n",
              "      <th>0</th>\n",
              "      <td>Rob</td>\n",
              "      <td>0.058824</td>\n",
              "      <td>0.213675</td>\n",
              "      <td>0</td>\n",
              "    </tr>\n",
              "    <tr>\n",
              "      <th>1</th>\n",
              "      <td>Michael</td>\n",
              "      <td>0.176471</td>\n",
              "      <td>0.384615</td>\n",
              "      <td>0</td>\n",
              "    </tr>\n",
              "    <tr>\n",
              "      <th>2</th>\n",
              "      <td>Mohan</td>\n",
              "      <td>0.176471</td>\n",
              "      <td>0.136752</td>\n",
              "      <td>0</td>\n",
              "    </tr>\n",
              "    <tr>\n",
              "      <th>3</th>\n",
              "      <td>Ismail</td>\n",
              "      <td>0.117647</td>\n",
              "      <td>0.128205</td>\n",
              "      <td>0</td>\n",
              "    </tr>\n",
              "    <tr>\n",
              "      <th>4</th>\n",
              "      <td>Kory</td>\n",
              "      <td>0.941176</td>\n",
              "      <td>0.897436</td>\n",
              "      <td>1</td>\n",
              "    </tr>\n",
              "  </tbody>\n",
              "</table>\n",
              "</div>"
            ],
            "text/plain": [
              "      Name       Age  Income($)  cluster\n",
              "0      Rob  0.058824   0.213675        0\n",
              "1  Michael  0.176471   0.384615        0\n",
              "2    Mohan  0.176471   0.136752        0\n",
              "3   Ismail  0.117647   0.128205        0\n",
              "4     Kory  0.941176   0.897436        1"
            ]
          },
          "metadata": {
            "tags": []
          },
          "execution_count": 83
        }
      ]
    },
    {
      "cell_type": "code",
      "metadata": {
        "colab": {
          "base_uri": "https://localhost:8080/"
        },
        "id": "3B1brK8XS6yf",
        "outputId": "3e1fbd32-221a-42e5-d339-83505144feab"
      },
      "source": [
        "km.cluster_centers_"
      ],
      "execution_count": null,
      "outputs": [
        {
          "output_type": "execute_result",
          "data": {
            "text/plain": [
              "array([[0.1372549 , 0.11633428],\n",
              "       [0.72268908, 0.8974359 ],\n",
              "       [0.85294118, 0.2022792 ]])"
            ]
          },
          "metadata": {
            "tags": []
          },
          "execution_count": 84
        }
      ]
    },
    {
      "cell_type": "markdown",
      "metadata": {
        "id": "DXaTzMvfU8Eo"
      },
      "source": [
        "<br>\n",
        "<br>\n",
        "<br>\n",
        "<br>\n",
        "<br>"
      ]
    },
    {
      "cell_type": "markdown",
      "metadata": {
        "id": "7knpVMstUMYy"
      },
      "source": [
        "Visualzing the Clusters"
      ]
    },
    {
      "cell_type": "code",
      "metadata": {
        "colab": {
          "base_uri": "https://localhost:8080/",
          "height": 282
        },
        "id": "Lhlm1k_sS82F",
        "outputId": "961777c9-6367-491f-91d3-c0ef1a16afe2"
      },
      "source": [
        "df1 = df[df.cluster==0]\n",
        "df2 = df[df.cluster==1]\n",
        "df3 = df[df.cluster==2]\n",
        "plt.scatter(df1.Age,df1['Income($)'],color='green')\n",
        "plt.scatter(df2.Age,df2['Income($)'],color='red')\n",
        "plt.scatter(df3.Age,df3['Income($)'],color='black')\n",
        "plt.scatter(km.cluster_centers_[:,0],km.cluster_centers_[:,1],color='purple',\n",
        "            marker='*',label='centroid')\n",
        "plt.legend()"
      ],
      "execution_count": null,
      "outputs": [
        {
          "output_type": "execute_result",
          "data": {
            "text/plain": [
              "<matplotlib.legend.Legend at 0x7f9ff1602d50>"
            ]
          },
          "metadata": {
            "tags": []
          },
          "execution_count": 85
        },
        {
          "output_type": "display_data",
          "data": {
            "image/png": "[encoded data removed]",
            "text/plain": [
              "<Figure size 432x288 with 1 Axes>"
            ]
          },
          "metadata": {
            "tags": [],
            "needs_background": "light"
          }
        }
      ]
    },
    {
      "cell_type": "markdown",
      "metadata": {
        "id": "fusWIzPoUUeu"
      },
      "source": [
        "<h3>\n",
        "c) Program to implement perceptron\n",
        "</h3>"
      ]
    },
    {
      "cell_type": "code",
      "metadata": {
        "id": "BObCUU3RUlTq"
      },
      "source": [
        "import numpy as np \n",
        "import pandas as pd \n",
        "import matplotlib.pyplot as plt\n",
        "\n",
        "\n",
        "class Perceptron():\n",
        "    def __init__(self,lr=0.01,niter=20):\n",
        "        self.lr = lr\n",
        "        self.niter = niter \n",
        "        \n",
        "    def fit(self,X,y):\n",
        "        self.w_ = np.zeros(1+X.shape[1])\n",
        "        self.errors_ = []\n",
        "        h = 0\n",
        "        for _ in range(self.niter):\n",
        "            errors = 0\n",
        "            for xi, target in zip(X,y):\n",
        "                update = self.lr*(target-self.predict(xi))\n",
        "                self.w_[1:]+=update*xi\n",
        "                self.w_[0]+=update\n",
        "                errors+=int(update != 0.0)\n",
        "                h+=1\n",
        "            self.errors_.append(errors)\n",
        "        print(\"value of h: \",h)\n",
        "        return self\n",
        "    \n",
        "    def net_input(self,X):\n",
        "        return np.dot(X,self.w_[1:])+self.w_[0]\n",
        "    \n",
        "    def predict(self,X):\n",
        "        return np.where(self.net_input(X)>=0.0,1,-1)"
      ],
      "execution_count": null,
      "outputs": []
    },
    {
      "cell_type": "code",
      "metadata": {
        "id": "n3FB32apU8WR",
        "colab": {
          "base_uri": "https://localhost:8080/",
          "height": 425
        },
        "outputId": "1196fe8d-5f08-4b56-e30e-3aae7af87ab4"
      },
      "source": [
        "df = pd.read_csv(\"iris.csv\")\n",
        "y = df.iloc[0:100,4].values\n",
        "y = np.where(y == 'Iris-setosa',-1,1)\n",
        "X = df.iloc[0:100,[0,2]].values"
      ],
      "execution_count": null,
      "outputs": [
        {
          "output_type": "error",
          "ename": "FileNotFoundError",
          "evalue": "ignored",
          "traceback": [
            "\u001b[0;31m---------------------------------------------------------------------------\u001b[0m",
            "\u001b[0;31mFileNotFoundError\u001b[0m                         Traceback (most recent call last)",
            "\u001b[0;32m<ipython-input-3-1f681affe8bd>\u001b[0m in \u001b[0;36m<module>\u001b[0;34m()\u001b[0m\n\u001b[0;32m----> 1\u001b[0;31m \u001b[0mdf\u001b[0m \u001b[0;34m=\u001b[0m \u001b[0mpd\u001b[0m\u001b[0;34m.\u001b[0m\u001b[0mread_csv\u001b[0m\u001b[0;34m(\u001b[0m\u001b[0;34m\"iris.csv\"\u001b[0m\u001b[0;34m)\u001b[0m\u001b[0;34m\u001b[0m\u001b[0;34m\u001b[0m\u001b[0m\n\u001b[0m\u001b[1;32m      2\u001b[0m \u001b[0my\u001b[0m \u001b[0;34m=\u001b[0m \u001b[0mdf\u001b[0m\u001b[0;34m.\u001b[0m\u001b[0miloc\u001b[0m\u001b[0;34m[\u001b[0m\u001b[0;36m0\u001b[0m\u001b[0;34m:\u001b[0m\u001b[0;36m100\u001b[0m\u001b[0;34m,\u001b[0m\u001b[0;36m4\u001b[0m\u001b[0;34m]\u001b[0m\u001b[0;34m.\u001b[0m\u001b[0mvalues\u001b[0m\u001b[0;34m\u001b[0m\u001b[0;34m\u001b[0m\u001b[0m\n\u001b[1;32m      3\u001b[0m \u001b[0my\u001b[0m \u001b[0;34m=\u001b[0m \u001b[0mnp\u001b[0m\u001b[0;34m.\u001b[0m\u001b[0mwhere\u001b[0m\u001b[0;34m(\u001b[0m\u001b[0my\u001b[0m \u001b[0;34m==\u001b[0m \u001b[0;34m'Iris-setosa'\u001b[0m\u001b[0;34m,\u001b[0m\u001b[0;34m-\u001b[0m\u001b[0;36m1\u001b[0m\u001b[0;34m,\u001b[0m\u001b[0;36m1\u001b[0m\u001b[0;34m)\u001b[0m\u001b[0;34m\u001b[0m\u001b[0;34m\u001b[0m\u001b[0m\n\u001b[1;32m      4\u001b[0m \u001b[0mX\u001b[0m \u001b[0;34m=\u001b[0m \u001b[0mdf\u001b[0m\u001b[0;34m.\u001b[0m\u001b[0miloc\u001b[0m\u001b[0;34m[\u001b[0m\u001b[0;36m0\u001b[0m\u001b[0;34m:\u001b[0m\u001b[0;36m100\u001b[0m\u001b[0;34m,\u001b[0m\u001b[0;34m[\u001b[0m\u001b[0;36m0\u001b[0m\u001b[0;34m,\u001b[0m\u001b[0;36m2\u001b[0m\u001b[0;34m]\u001b[0m\u001b[0;34m]\u001b[0m\u001b[0;34m.\u001b[0m\u001b[0mvalues\u001b[0m\u001b[0;34m\u001b[0m\u001b[0;34m\u001b[0m\u001b[0m\n",
            "\u001b[0;32m/usr/local/lib/python3.7/dist-packages/pandas/io/parsers.py\u001b[0m in \u001b[0;36mread_csv\u001b[0;34m(filepath_or_buffer, sep, delimiter, header, names, index_col, usecols, squeeze, prefix, mangle_dupe_cols, dtype, engine, converters, true_values, false_values, skipinitialspace, skiprows, skipfooter, nrows, na_values, keep_default_na, na_filter, verbose, skip_blank_lines, parse_dates, infer_datetime_format, keep_date_col, date_parser, dayfirst, cache_dates, iterator, chunksize, compression, thousands, decimal, lineterminator, quotechar, quoting, doublequote, escapechar, comment, encoding, dialect, error_bad_lines, warn_bad_lines, delim_whitespace, low_memory, memory_map, float_precision)\u001b[0m\n\u001b[1;32m    686\u001b[0m     )\n\u001b[1;32m    687\u001b[0m \u001b[0;34m\u001b[0m\u001b[0m\n\u001b[0;32m--> 688\u001b[0;31m     \u001b[0;32mreturn\u001b[0m \u001b[0m_read\u001b[0m\u001b[0;34m(\u001b[0m\u001b[0mfilepath_or_buffer\u001b[0m\u001b[0;34m,\u001b[0m \u001b[0mkwds\u001b[0m\u001b[0;34m)\u001b[0m\u001b[0;34m\u001b[0m\u001b[0;34m\u001b[0m\u001b[0m\n\u001b[0m\u001b[1;32m    689\u001b[0m \u001b[0;34m\u001b[0m\u001b[0m\n\u001b[1;32m    690\u001b[0m \u001b[0;34m\u001b[0m\u001b[0m\n",
            "\u001b[0;32m/usr/local/lib/python3.7/dist-packages/pandas/io/parsers.py\u001b[0m in \u001b[0;36m_read\u001b[0;34m(filepath_or_buffer, kwds)\u001b[0m\n\u001b[1;32m    452\u001b[0m \u001b[0;34m\u001b[0m\u001b[0m\n\u001b[1;32m    453\u001b[0m     \u001b[0;31m# Create the parser.\u001b[0m\u001b[0;34m\u001b[0m\u001b[0;34m\u001b[0m\u001b[0;34m\u001b[0m\u001b[0m\n\u001b[0;32m--> 454\u001b[0;31m     \u001b[0mparser\u001b[0m \u001b[0;34m=\u001b[0m \u001b[0mTextFileReader\u001b[0m\u001b[0;34m(\u001b[0m\u001b[0mfp_or_buf\u001b[0m\u001b[0;34m,\u001b[0m \u001b[0;34m**\u001b[0m\u001b[0mkwds\u001b[0m\u001b[0;34m)\u001b[0m\u001b[0;34m\u001b[0m\u001b[0;34m\u001b[0m\u001b[0m\n\u001b[0m\u001b[1;32m    455\u001b[0m \u001b[0;34m\u001b[0m\u001b[0m\n\u001b[1;32m    456\u001b[0m     \u001b[0;32mif\u001b[0m \u001b[0mchunksize\u001b[0m \u001b[0;32mor\u001b[0m \u001b[0miterator\u001b[0m\u001b[0;34m:\u001b[0m\u001b[0;34m\u001b[0m\u001b[0;34m\u001b[0m\u001b[0m\n",
            "\u001b[0;32m/usr/local/lib/python3.7/dist-packages/pandas/io/parsers.py\u001b[0m in \u001b[0;36m__init__\u001b[0;34m(self, f, engine, **kwds)\u001b[0m\n\u001b[1;32m    946\u001b[0m             \u001b[0mself\u001b[0m\u001b[0;34m.\u001b[0m\u001b[0moptions\u001b[0m\u001b[0;34m[\u001b[0m\u001b[0;34m\"has_index_names\"\u001b[0m\u001b[0;34m]\u001b[0m \u001b[0;34m=\u001b[0m \u001b[0mkwds\u001b[0m\u001b[0;34m[\u001b[0m\u001b[0;34m\"has_index_names\"\u001b[0m\u001b[0;34m]\u001b[0m\u001b[0;34m\u001b[0m\u001b[0;34m\u001b[0m\u001b[0m\n\u001b[1;32m    947\u001b[0m \u001b[0;34m\u001b[0m\u001b[0m\n\u001b[0;32m--> 948\u001b[0;31m         \u001b[0mself\u001b[0m\u001b[0;34m.\u001b[0m\u001b[0m_make_engine\u001b[0m\u001b[0;34m(\u001b[0m\u001b[0mself\u001b[0m\u001b[0;34m.\u001b[0m\u001b[0mengine\u001b[0m\u001b[0;34m)\u001b[0m\u001b[0;34m\u001b[0m\u001b[0;34m\u001b[0m\u001b[0m\n\u001b[0m\u001b[1;32m    949\u001b[0m \u001b[0;34m\u001b[0m\u001b[0m\n\u001b[1;32m    950\u001b[0m     \u001b[0;32mdef\u001b[0m \u001b[0mclose\u001b[0m\u001b[0;34m(\u001b[0m\u001b[0mself\u001b[0m\u001b[0;34m)\u001b[0m\u001b[0;34m:\u001b[0m\u001b[0;34m\u001b[0m\u001b[0;34m\u001b[0m\u001b[0m\n",
            "\u001b[0;32m/usr/local/lib/python3.7/dist-packages/pandas/io/parsers.py\u001b[0m in \u001b[0;36m_make_engine\u001b[0;34m(self, engine)\u001b[0m\n\u001b[1;32m   1178\u001b[0m     \u001b[0;32mdef\u001b[0m \u001b[0m_make_engine\u001b[0m\u001b[0;34m(\u001b[0m\u001b[0mself\u001b[0m\u001b[0;34m,\u001b[0m \u001b[0mengine\u001b[0m\u001b[0;34m=\u001b[0m\u001b[0;34m\"c\"\u001b[0m\u001b[0;34m)\u001b[0m\u001b[0;34m:\u001b[0m\u001b[0;34m\u001b[0m\u001b[0;34m\u001b[0m\u001b[0m\n\u001b[1;32m   1179\u001b[0m         \u001b[0;32mif\u001b[0m \u001b[0mengine\u001b[0m \u001b[0;34m==\u001b[0m \u001b[0;34m\"c\"\u001b[0m\u001b[0;34m:\u001b[0m\u001b[0;34m\u001b[0m\u001b[0;34m\u001b[0m\u001b[0m\n\u001b[0;32m-> 1180\u001b[0;31m             \u001b[0mself\u001b[0m\u001b[0;34m.\u001b[0m\u001b[0m_engine\u001b[0m \u001b[0;34m=\u001b[0m \u001b[0mCParserWrapper\u001b[0m\u001b[0;34m(\u001b[0m\u001b[0mself\u001b[0m\u001b[0;34m.\u001b[0m\u001b[0mf\u001b[0m\u001b[0;34m,\u001b[0m \u001b[0;34m**\u001b[0m\u001b[0mself\u001b[0m\u001b[0;34m.\u001b[0m\u001b[0moptions\u001b[0m\u001b[0;34m)\u001b[0m\u001b[0;34m\u001b[0m\u001b[0;34m\u001b[0m\u001b[0m\n\u001b[0m\u001b[1;32m   1181\u001b[0m         \u001b[0;32melse\u001b[0m\u001b[0;34m:\u001b[0m\u001b[0;34m\u001b[0m\u001b[0;34m\u001b[0m\u001b[0m\n\u001b[1;32m   1182\u001b[0m             \u001b[0;32mif\u001b[0m \u001b[0mengine\u001b[0m \u001b[0;34m==\u001b[0m \u001b[0;34m\"python\"\u001b[0m\u001b[0;34m:\u001b[0m\u001b[0;34m\u001b[0m\u001b[0;34m\u001b[0m\u001b[0m\n",
            "\u001b[0;32m/usr/local/lib/python3.7/dist-packages/pandas/io/parsers.py\u001b[0m in \u001b[0;36m__init__\u001b[0;34m(self, src, **kwds)\u001b[0m\n\u001b[1;32m   2008\u001b[0m         \u001b[0mkwds\u001b[0m\u001b[0;34m[\u001b[0m\u001b[0;34m\"usecols\"\u001b[0m\u001b[0;34m]\u001b[0m \u001b[0;34m=\u001b[0m \u001b[0mself\u001b[0m\u001b[0;34m.\u001b[0m\u001b[0musecols\u001b[0m\u001b[0;34m\u001b[0m\u001b[0;34m\u001b[0m\u001b[0m\n\u001b[1;32m   2009\u001b[0m \u001b[0;34m\u001b[0m\u001b[0m\n\u001b[0;32m-> 2010\u001b[0;31m         \u001b[0mself\u001b[0m\u001b[0;34m.\u001b[0m\u001b[0m_reader\u001b[0m \u001b[0;34m=\u001b[0m \u001b[0mparsers\u001b[0m\u001b[0;34m.\u001b[0m\u001b[0mTextReader\u001b[0m\u001b[0;34m(\u001b[0m\u001b[0msrc\u001b[0m\u001b[0;34m,\u001b[0m \u001b[0;34m**\u001b[0m\u001b[0mkwds\u001b[0m\u001b[0;34m)\u001b[0m\u001b[0;34m\u001b[0m\u001b[0;34m\u001b[0m\u001b[0m\n\u001b[0m\u001b[1;32m   2011\u001b[0m         \u001b[0mself\u001b[0m\u001b[0;34m.\u001b[0m\u001b[0munnamed_cols\u001b[0m \u001b[0;34m=\u001b[0m \u001b[0mself\u001b[0m\u001b[0;34m.\u001b[0m\u001b[0m_reader\u001b[0m\u001b[0;34m.\u001b[0m\u001b[0munnamed_cols\u001b[0m\u001b[0;34m\u001b[0m\u001b[0;34m\u001b[0m\u001b[0m\n\u001b[1;32m   2012\u001b[0m \u001b[0;34m\u001b[0m\u001b[0m\n",
            "\u001b[0;32mpandas/_libs/parsers.pyx\u001b[0m in \u001b[0;36mpandas._libs.parsers.TextReader.__cinit__\u001b[0;34m()\u001b[0m\n",
            "\u001b[0;32mpandas/_libs/parsers.pyx\u001b[0m in \u001b[0;36mpandas._libs.parsers.TextReader._setup_parser_source\u001b[0;34m()\u001b[0m\n",
            "\u001b[0;31mFileNotFoundError\u001b[0m: [Errno 2] No such file or directory: 'iris.csv'"
          ]
        }
      ]
    },
    {
      "cell_type": "code",
      "metadata": {
        "id": "GhHfjvWvVEsr"
      },
      "source": [
        "\n",
        "\n",
        "plt.scatter(X[:50,0],X[:50,1],color='black',marker='+',label='setosa')\n",
        "plt.scatter(X[50:100,0],X[50:100,1],color='blue',marker='o',label='versicolor')\n",
        "plt.xlabel('petal length')\n",
        "plt.ylabel('sepal length')\n",
        "plt.legend(loc='upper left')\n",
        "plt.show()"
      ],
      "execution_count": null,
      "outputs": []
    },
    {
      "cell_type": "code",
      "metadata": {
        "colab": {
          "base_uri": "https://localhost:8080/"
        },
        "id": "au9XB7SyXUHJ",
        "outputId": "003d655b-3602-46d7-ef8e-998ecd314b2f"
      },
      "source": [
        "per = Perceptron(lr=0.01, niter=20)\n",
        "per.fit(X,y)"
      ],
      "execution_count": null,
      "outputs": [
        {
          "output_type": "stream",
          "text": [
            "value of h:  2000\n"
          ],
          "name": "stdout"
        },
        {
          "output_type": "execute_result",
          "data": {
            "text/plain": [
              "<__main__.Perceptron at 0x7f9fefd6c8d0>"
            ]
          },
          "metadata": {
            "tags": []
          },
          "execution_count": 112
        }
      ]
    },
    {
      "cell_type": "code",
      "metadata": {
        "colab": {
          "base_uri": "https://localhost:8080/",
          "height": 296
        },
        "id": "YJPwohD3X24B",
        "outputId": "df2c5be7-8c0e-49ca-cf82-08e2ed1f19e8"
      },
      "source": [
        "plt.plot(range(1, len(per.errors_)+1), per.errors_,marker='o',color='red')\n",
        "plt.xlabel('Epochs')\n",
        "plt.ylabel(\"Number of misclassifications\")"
      ],
      "execution_count": null,
      "outputs": [
        {
          "output_type": "execute_result",
          "data": {
            "text/plain": [
              "Text(0, 0.5, 'Number of misclassifications')"
            ]
          },
          "metadata": {
            "tags": []
          },
          "execution_count": 128
        },
        {
          "output_type": "display_data",
          "data": {
            "image/png": "[encoded data removed]",
            "text/plain": [
              "<Figure size 432x288 with 1 Axes>"
            ]
          },
          "metadata": {
            "tags": [],
            "needs_background": "light"
          }
        }
      ]
    },
    {
      "cell_type": "markdown",
      "metadata": {
        "id": "0YyH0s487YMp"
      },
      "source": [
        "##**Exercise 6**"
      ]
    },
    {
      "cell_type": "markdown",
      "metadata": {
        "id": "vDP4cPvm_RKQ"
      },
      "source": [
        "<h3>\n",
        "a) Generate a decision tree. Find the Depth of decision trees and observe the<br> results, then\n",
        "propose some changes in DecisionTreeClassifier function to limit.\n",
        "</h3>"
      ]
    },
    {
      "cell_type": "code",
      "metadata": {
        "colab": {
          "base_uri": "https://localhost:8080/"
        },
        "id": "ksq5iBLz7dLG",
        "outputId": "03c3c278-32ad-47f9-cbee-acbb2d32ffb9"
      },
      "source": [
        "from sklearn import tree \n",
        "X = [[0, 0, 0], [5, 5, 5], [3, 3, 3]] \n",
        "Y = [0,0,1] \n",
        "clf = tree.DecisionTreeClassifier() \n",
        "clf = clf.fit(X, Y) \n",
        "print(clf.tree_.max_depth)"
      ],
      "execution_count": null,
      "outputs": [
        {
          "output_type": "stream",
          "text": [
            "2\n"
          ],
          "name": "stdout"
        }
      ]
    },
    {
      "cell_type": "code",
      "metadata": {
        "colab": {
          "base_uri": "https://localhost:8080/"
        },
        "id": "CuQpJmYW-VKS",
        "outputId": "a822893a-5125-4c76-bb46-ba35ac7bee66"
      },
      "source": [
        "class Node:\n",
        "    def __init__(self, data):\n",
        "        self.data = data \n",
        "        self.left = None \n",
        "        self.right = None \n",
        "    \n",
        "def maxDepth(node): \n",
        "    if node is None: \n",
        "        return 0; \n",
        "    else: \n",
        "        lDepth = maxDepth(node.left) \n",
        "        rDepth = maxDepth(node.right) \n",
        "        if (lDepth > rDepth): \n",
        "            return lDepth+1 \n",
        "        else: \n",
        "            return rDepth+1 \n",
        "            \n",
        "root = Node(30) \n",
        "root.left = Node(31) \n",
        "root.right = Node(38) \n",
        "root.left.left = Node(25) \n",
        "root.left.right = Node(43) \n",
        "root.left.left.left = Node(11) \n",
        "print(\"Height of tree is %d\" % (maxDepth(root)))\n"
      ],
      "execution_count": null,
      "outputs": [
        {
          "output_type": "stream",
          "text": [
            "Height of tree is 4\n"
          ],
          "name": "stdout"
        }
      ]
    },
    {
      "cell_type": "markdown",
      "metadata": {
        "id": "pkJBexyCZKhW"
      },
      "source": [
        "#**Exercise 7**"
      ]
    },
    {
      "cell_type": "markdown",
      "metadata": {
        "id": "iL7Z1UvnZQ8j"
      },
      "source": [
        "<h3>\n",
        "a) Calculating with matrices using numpy : <br>inv, pinv, matrix_rank, solve, lstsq, svd,\n",
        "transpose, eig, sort, linspace, meshgrid, mgrid, ogrid, concatenate, tile, squeeze, integrate\n",
        "</h3>"
      ]
    },
    {
      "cell_type": "code",
      "metadata": {
        "id": "zWvpMB7NZNKM"
      },
      "source": [
        "import numpy as np"
      ],
      "execution_count": null,
      "outputs": []
    },
    {
      "cell_type": "markdown",
      "metadata": {
        "id": "aeM2nVKOb7JG"
      },
      "source": [
        "<h4> inv() </h4>"
      ]
    },
    {
      "cell_type": "code",
      "metadata": {
        "colab": {
          "base_uri": "https://localhost:8080/"
        },
        "id": "r3z__HgiZdnc",
        "outputId": "04db8456-e63e-48c3-f83d-fe0b7640cde2"
      },
      "source": [
        "from numpy import linalg \n",
        "\n",
        "x = np.array([[1,2],[3,4]]) \n",
        "y = np.linalg.inv(x) \n",
        "print(x) \n",
        "print(y) \n",
        "print(np.dot(x,y))"
      ],
      "execution_count": null,
      "outputs": [
        {
          "output_type": "stream",
          "text": [
            "[[1 2]\n",
            " [3 4]]\n",
            "[[-2.   1. ]\n",
            " [ 1.5 -0.5]]\n",
            "[[1.0000000e+00 0.0000000e+00]\n",
            " [8.8817842e-16 1.0000000e+00]]\n"
          ],
          "name": "stdout"
        }
      ]
    },
    {
      "cell_type": "markdown",
      "metadata": {
        "id": "v7u6sILGb__Z"
      },
      "source": [
        "<h4> pinv()</h4>"
      ]
    },
    {
      "cell_type": "code",
      "metadata": {
        "colab": {
          "base_uri": "https://localhost:8080/"
        },
        "id": "B6EANj8Tb26M",
        "outputId": "7aed8042-922d-463e-800a-7c61c0388480"
      },
      "source": [
        "a = np.arange(1,11).reshape(5,2)\n",
        "print(a)\n",
        "b = linalg.pinv(a)\n",
        "print(b)"
      ],
      "execution_count": null,
      "outputs": [
        {
          "output_type": "stream",
          "text": [
            "[[ 1  2]\n",
            " [ 3  4]\n",
            " [ 5  6]\n",
            " [ 7  8]\n",
            " [ 9 10]]\n",
            "[[-0.8  -0.5  -0.2   0.1   0.4 ]\n",
            " [ 0.7   0.45  0.2  -0.05 -0.3 ]]\n"
          ],
          "name": "stdout"
        }
      ]
    },
    {
      "cell_type": "markdown",
      "metadata": {
        "id": "nBCDoCF_ch32"
      },
      "source": [
        "<h4> matrix_rank() </h4>"
      ]
    },
    {
      "cell_type": "code",
      "metadata": {
        "colab": {
          "base_uri": "https://localhost:8080/"
        },
        "id": "V_ph-qIRcQkL",
        "outputId": "ae110bdb-a59e-41fd-cbaa-7e08dd9dab7c"
      },
      "source": [
        "mat = np.eye(4)\n",
        "print(mat)\n",
        "\n",
        "print(\"Rank of Matrix is:\", linalg.matrix_rank(mat))"
      ],
      "execution_count": null,
      "outputs": [
        {
          "output_type": "stream",
          "text": [
            "[[1. 0. 0. 0.]\n",
            " [0. 1. 0. 0.]\n",
            " [0. 0. 1. 0.]\n",
            " [0. 0. 0. 1.]]\n",
            "Rank of Matrix is: 4\n"
          ],
          "name": "stdout"
        }
      ]
    },
    {
      "cell_type": "markdown",
      "metadata": {
        "id": "54pUl8iReLp1"
      },
      "source": [
        "<h4>\n",
        "solve()\n",
        "</h4>"
      ]
    },
    {
      "cell_type": "markdown",
      "metadata": {
        "id": "ggOeX561eVze"
      },
      "source": [
        "**2x+2y+9z = 3**<br>\n",
        "**3x+4y+z = 2**<br>\n",
        "**-2x+y-7z = 1**<br>"
      ]
    },
    {
      "cell_type": "code",
      "metadata": {
        "colab": {
          "base_uri": "https://localhost:8080/"
        },
        "id": "ZOpAkWO7eGXV",
        "outputId": "f422128a-0f57-4ac2-b55b-25a517c93d5c"
      },
      "source": [
        "mat = np.array([\n",
        "                [2,2,9],\n",
        "                [3,4,1],\n",
        "                [-2,1,-7]                \n",
        "])\n",
        "\n",
        "const = np.array([3,2,1])\n",
        "\n",
        "sol = linalg.solve(mat,const)\n",
        "print(sol)"
      ],
      "execution_count": null,
      "outputs": [
        {
          "output_type": "stream",
          "text": [
            "[-0.94936709  1.13924051  0.29113924]\n"
          ],
          "name": "stdout"
        }
      ]
    },
    {
      "cell_type": "markdown",
      "metadata": {
        "id": "5xW6-R4Ffrnw"
      },
      "source": [
        "<h4> lstsq()</h4>"
      ]
    },
    {
      "cell_type": "code",
      "metadata": {
        "colab": {
          "base_uri": "https://localhost:8080/"
        },
        "id": "ANSZoA_9fay9",
        "outputId": "bc62d668-2094-4c2a-f2ff-dc17497e8c53"
      },
      "source": [
        "mat = np.array([\n",
        "                [2,2,9],\n",
        "                [3,4,1],\n",
        "                [-2,1,-7]                \n",
        "])\n",
        "\n",
        "const = np.array([3,2,1])\n",
        "sol = linalg.lstsq(mat,const)\n",
        "print(sol)"
      ],
      "execution_count": null,
      "outputs": [
        {
          "output_type": "stream",
          "text": [
            "(array([-0.94936709,  1.13924051,  0.29113924]), array([], dtype=float64), 3, array([11.98399098,  4.85156948,  1.35876191]))\n"
          ],
          "name": "stdout"
        },
        {
          "output_type": "stream",
          "text": [
            "/usr/local/lib/python3.7/dist-packages/ipykernel_launcher.py:8: FutureWarning: `rcond` parameter will change to the default of machine precision times ``max(M, N)`` where M and N are the input matrix dimensions.\n",
            "To use the future default and silence this warning we advise to pass `rcond=None`, to keep using the old, explicitly pass `rcond=-1`.\n",
            "  \n"
          ],
          "name": "stderr"
        }
      ]
    },
    {
      "cell_type": "markdown",
      "metadata": {
        "id": "qTg2V_x3ipTh"
      },
      "source": [
        "<h4> svd() </h4>"
      ]
    },
    {
      "cell_type": "code",
      "metadata": {
        "colab": {
          "base_uri": "https://localhost:8080/"
        },
        "id": "Q3gzc8T2fplQ",
        "outputId": "a74420c4-0e45-41ba-cec4-8cc213752374"
      },
      "source": [
        "mat1 = np.array([\n",
        "                 [1,3,5],\n",
        "                 [2,4,6],\n",
        "                 [11,15,41],\n",
        "])\n",
        "\n",
        "x, y, z = linalg.svd(mat1)\n",
        "print(\"x\")\n",
        "print(x)\n",
        "print(\"y\")\n",
        "print(y)\n",
        "print(\"z\")\n",
        "print(z)\n",
        "print(\"mat1\")\n",
        "\n",
        "print((x@np.diag(y))@z)"
      ],
      "execution_count": null,
      "outputs": [
        {
          "output_type": "stream",
          "text": [
            "x\n",
            "[[-0.12629977 -0.53404635 -0.83596822]\n",
            " [-0.15877542 -0.82096908  0.54845249]\n",
            " [-0.97920311  0.20200063  0.01889477]]\n",
            "y\n",
            "[45.97661106  1.97925342  0.48351986]\n",
            "z\n",
            "[[-0.24393022 -0.34152251 -0.90766757]\n",
            " [ 0.02325243 -0.9377303   0.34658508]\n",
            " [ 0.96951399 -0.0634371  -0.23668198]]\n",
            "mat1\n",
            "[[ 1.  3.  5.]\n",
            " [ 2.  4.  6.]\n",
            " [11. 15. 41.]]\n"
          ],
          "name": "stdout"
        }
      ]
    },
    {
      "cell_type": "markdown",
      "metadata": {
        "id": "jk3ORudGk27C"
      },
      "source": [
        "<h4> transpose()</h4>"
      ]
    },
    {
      "cell_type": "code",
      "metadata": {
        "colab": {
          "base_uri": "https://localhost:8080/"
        },
        "id": "XvchNG_xkQ34",
        "outputId": "aeefe722-b87f-4ea7-bac6-2988128a1ca7"
      },
      "source": [
        "mat2 = np.array([\n",
        "                 [1,2,4],\n",
        "                 [3,5,6]\n",
        "])\n",
        "\n",
        "print(\"Matrix:\")\n",
        "print(mat2)\n",
        "\n",
        "print(\"\\nTranspose\")\n",
        "print(mat2.transpose())"
      ],
      "execution_count": null,
      "outputs": [
        {
          "output_type": "stream",
          "text": [
            "Matrix:\n",
            "[[1 2 4]\n",
            " [3 5 6]]\n",
            "\n",
            "Transpose\n",
            "[[1 3]\n",
            " [2 5]\n",
            " [4 6]]\n"
          ],
          "name": "stdout"
        }
      ]
    },
    {
      "cell_type": "markdown",
      "metadata": {
        "id": "keYA85v6mICL"
      },
      "source": [
        "<h4> eig() </h4>"
      ]
    },
    {
      "cell_type": "code",
      "metadata": {
        "colab": {
          "base_uri": "https://localhost:8080/"
        },
        "id": "6O-O1EXrlLj9",
        "outputId": "267c84f3-23c3-4f89-d36f-7f911255546e"
      },
      "source": [
        "mat3 = np.array([\n",
        "                 [2,0,0],\n",
        "                 [0,15,0],\n",
        "                 [0,0,9]\n",
        "])\n",
        "print(\"Matrix\")\n",
        "print(mat3)\n",
        "\n",
        "e = linalg.eig(mat3)\n",
        "ev, eve = linalg.eig(mat3)\n",
        "print(e)\n",
        "print()\n",
        "print()\n",
        "print(\"\\n\\nEigen values:\")\n",
        "print(ev)\n",
        "print(\"\\n\\nEigen Vectors\")\n",
        "print(eve)"
      ],
      "execution_count": null,
      "outputs": [
        {
          "output_type": "stream",
          "text": [
            "Matrix\n",
            "[[ 2  0  0]\n",
            " [ 0 15  0]\n",
            " [ 0  0  9]]\n",
            "(array([ 2., 15.,  9.]), array([[1., 0., 0.],\n",
            "       [0., 1., 0.],\n",
            "       [0., 0., 1.]]))\n",
            "\n",
            "\n",
            "\n",
            "\n",
            "Eigen values:\n",
            "[ 2. 15.  9.]\n",
            "\n",
            "\n",
            "Eigen Vectors\n",
            "[[1. 0. 0.]\n",
            " [0. 1. 0.]\n",
            " [0. 0. 1.]]\n"
          ],
          "name": "stdout"
        }
      ]
    },
    {
      "cell_type": "markdown",
      "metadata": {
        "id": "CKBwnQyCnWLV"
      },
      "source": [
        "<h4> sort() </h4>"
      ]
    },
    {
      "cell_type": "code",
      "metadata": {
        "colab": {
          "base_uri": "https://localhost:8080/"
        },
        "id": "yrAS2PHlm7RI",
        "outputId": "47cfd9bd-e535-4476-a720-f5b5d9a985d0"
      },
      "source": [
        "mat4 = np.array([3,2,10,4,1,100,79,52])\n",
        "print(\"Matrix:\")\n",
        "print(mat4)\n",
        "print(\"Sorted matrix:\")\n",
        "print(np.sort(mat4,axis=None))"
      ],
      "execution_count": null,
      "outputs": [
        {
          "output_type": "stream",
          "text": [
            "Matrix:\n",
            "[  3   2  10   4   1 100  79  52]\n",
            "Sorted matrix:\n",
            "[  1   2   3   4  10  52  79 100]\n"
          ],
          "name": "stdout"
        }
      ]
    },
    {
      "cell_type": "markdown",
      "metadata": {
        "id": "QHGLYRPspI7X"
      },
      "source": [
        "<h4> linspace()</h4>"
      ]
    },
    {
      "cell_type": "code",
      "metadata": {
        "colab": {
          "base_uri": "https://localhost:8080/"
        },
        "id": "GVeiDEmgn6yV",
        "outputId": "309758d4-8174-4e09-d474-7817fbc196e9"
      },
      "source": [
        "x = np.linspace(0,100,10)\n",
        "print(x)"
      ],
      "execution_count": null,
      "outputs": [
        {
          "output_type": "stream",
          "text": [
            "[  0.          11.11111111  22.22222222  33.33333333  44.44444444\n",
            "  55.55555556  66.66666667  77.77777778  88.88888889 100.        ]\n"
          ],
          "name": "stdout"
        }
      ]
    },
    {
      "cell_type": "markdown",
      "metadata": {
        "id": "NqtCoNERpqAx"
      },
      "source": [
        "<h4>meshgrid()</h4>"
      ]
    },
    {
      "cell_type": "code",
      "metadata": {
        "colab": {
          "base_uri": "https://localhost:8080/"
        },
        "id": "nryqdcsNpIBQ",
        "outputId": "bdbcb155-56cf-44fe-dd50-211c40ac5055"
      },
      "source": [
        "x = np.linspace(-4, 4, 9) \n",
        "y = np.linspace(-5, 5, 1) \n",
        "x_1, y_1 = np.meshgrid(x, y)\n",
        "  \n",
        "print(\"x_1 = \")\n",
        "print(x_1)\n",
        "print(\"y_1 = \")\n",
        "print(y_1)"
      ],
      "execution_count": null,
      "outputs": [
        {
          "output_type": "stream",
          "text": [
            "x_1 = \n",
            "[[-4. -3. -2. -1.  0.  1.  2.  3.  4.]]\n",
            "y_1 = \n",
            "[[-5. -5. -5. -5. -5. -5. -5. -5. -5.]]\n"
          ],
          "name": "stdout"
        }
      ]
    },
    {
      "cell_type": "markdown",
      "metadata": {
        "id": "fhkFrDzuptyD"
      },
      "source": [
        "<h4>mgrid() </h4>"
      ]
    },
    {
      "cell_type": "code",
      "metadata": {
        "colab": {
          "base_uri": "https://localhost:8080/"
        },
        "id": "6JeTjWV4poEK",
        "outputId": "1f6f9a3a-e9f9-4586-9771-9623a9251212"
      },
      "source": [
        "x = np.mgrid[0:5,0:5]\n",
        "print(x)"
      ],
      "execution_count": null,
      "outputs": [
        {
          "output_type": "stream",
          "text": [
            "[[[0 0 0 0 0]\n",
            "  [1 1 1 1 1]\n",
            "  [2 2 2 2 2]\n",
            "  [3 3 3 3 3]\n",
            "  [4 4 4 4 4]]\n",
            "\n",
            " [[0 1 2 3 4]\n",
            "  [0 1 2 3 4]\n",
            "  [0 1 2 3 4]\n",
            "  [0 1 2 3 4]\n",
            "  [0 1 2 3 4]]]\n"
          ],
          "name": "stdout"
        }
      ]
    },
    {
      "cell_type": "markdown",
      "metadata": {
        "id": "HY8IYOOKqNs8"
      },
      "source": [
        "<h4> ogrid()</h4>"
      ]
    },
    {
      "cell_type": "code",
      "metadata": {
        "colab": {
          "base_uri": "https://localhost:8080/"
        },
        "id": "Bft3I2CjqClx",
        "outputId": "9308a0e7-c68a-47be-83b6-bc1af0f548e3"
      },
      "source": [
        "x = np.ogrid[0:5,0:5]\n",
        "print(x)"
      ],
      "execution_count": null,
      "outputs": [
        {
          "output_type": "stream",
          "text": [
            "[array([[0],\n",
            "       [1],\n",
            "       [2],\n",
            "       [3],\n",
            "       [4]]), array([[0, 1, 2, 3, 4]])]\n"
          ],
          "name": "stdout"
        }
      ]
    },
    {
      "cell_type": "markdown",
      "metadata": {
        "id": "FcYSJ256qc47"
      },
      "source": [
        "<h4> concatenate()</h4>"
      ]
    },
    {
      "cell_type": "code",
      "metadata": {
        "colab": {
          "base_uri": "https://localhost:8080/"
        },
        "id": "nrwFKM9lqNQ0",
        "outputId": "25593245-f7a5-41c9-92ad-aabdb12ade0c"
      },
      "source": [
        "a = np.array([[1, 2], [3, 4]])\n",
        "b = np.array([[5, 6]])\n",
        "c = np.concatenate((a, b), axis=0)\n",
        "print(c)"
      ],
      "execution_count": null,
      "outputs": [
        {
          "output_type": "execute_result",
          "data": {
            "text/plain": [
              "array([[1, 2],\n",
              "       [3, 4],\n",
              "       [5, 6]])"
            ]
          },
          "metadata": {
            "tags": []
          },
          "execution_count": 155
        }
      ]
    },
    {
      "cell_type": "markdown",
      "metadata": {
        "id": "SbxdlIUXqyAx"
      },
      "source": [
        "<h4> tile() </h4>"
      ]
    },
    {
      "cell_type": "code",
      "metadata": {
        "colab": {
          "base_uri": "https://localhost:8080/"
        },
        "id": "kJUUUrHzqZTh",
        "outputId": "a9766654-091a-4a27-e4d7-ec8c0dcdc4e5"
      },
      "source": [
        "a = np.array([0, 1, 2])\n",
        "z = np.tile(a, 3)\n",
        "print(z)"
      ],
      "execution_count": null,
      "outputs": [
        {
          "output_type": "stream",
          "text": [
            "[0 1 2 0 1 2 0 1 2]\n"
          ],
          "name": "stdout"
        }
      ]
    },
    {
      "cell_type": "markdown",
      "metadata": {
        "id": "1ioI74YwrF0q"
      },
      "source": [
        "<h4>squeeze() </h4>"
      ]
    },
    {
      "cell_type": "code",
      "metadata": {
        "colab": {
          "base_uri": "https://localhost:8080/"
        },
        "id": "2ZQml7RdrE6l",
        "outputId": "e373e34d-6048-460e-cb5a-54397465815e"
      },
      "source": [
        "x = np.array([[1234]])\n",
        "print(x.shape)\n",
        "\n",
        "print(np.squeeze(x))\n",
        "\n",
        "print(np.squeeze(x).shape)"
      ],
      "execution_count": null,
      "outputs": [
        {
          "output_type": "stream",
          "text": [
            "(1, 1)\n",
            "1234\n",
            "()\n"
          ],
          "name": "stdout"
        }
      ]
    },
    {
      "cell_type": "markdown",
      "metadata": {
        "id": "dh5HrwcWsD9l"
      },
      "source": [
        "<h4> integrate() </h4>"
      ]
    },
    {
      "cell_type": "code",
      "metadata": {
        "colab": {
          "base_uri": "https://localhost:8080/"
        },
        "id": "JxGEQtITreb8",
        "outputId": "2cc45a97-3dd2-41b2-c338-0e5b507f6f0a"
      },
      "source": [
        "from scipy import integrate\n",
        "def integrand(x, a, b):\n",
        "  return a*x**3 + b*x**2\n",
        "\n",
        "result = integrate.quad(integrand, 0, 2, args=(3,9))\n",
        "\n",
        "print(result)"
      ],
      "execution_count": null,
      "outputs": [
        {
          "output_type": "stream",
          "text": [
            "(36.0, 3.9968028886505635e-13)\n"
          ],
          "name": "stdout"
        }
      ]
    },
    {
      "cell_type": "markdown",
      "metadata": {
        "id": "8QsLj99avnZ9"
      },
      "source": [
        "#**Exercise 8**"
      ]
    },
    {
      "cell_type": "markdown",
      "metadata": {
        "id": "PGqseY-svr0e"
      },
      "source": [
        "<h3> a) Program using pandas </h3>"
      ]
    },
    {
      "cell_type": "code",
      "metadata": {
        "id": "L-OJ40fkwF0-"
      },
      "source": [
        "import pandas as pd"
      ],
      "execution_count": null,
      "outputs": []
    },
    {
      "cell_type": "code",
      "metadata": {
        "colab": {
          "base_uri": "https://localhost:8080/"
        },
        "id": "EPk-GS_awIt3",
        "outputId": "fb5a6e59-2027-453b-e5c8-a5ab607626fe"
      },
      "source": [
        "df = pd.Series([1,2,3,4,5])\n",
        "print(df)\n",
        "print(df.dtype)"
      ],
      "execution_count": null,
      "outputs": [
        {
          "output_type": "stream",
          "text": [
            "0    1\n",
            "1    2\n",
            "2    3\n",
            "3    4\n",
            "4    5\n",
            "dtype: int64\n",
            "int64\n"
          ],
          "name": "stdout"
        }
      ]
    },
    {
      "cell_type": "code",
      "metadata": {
        "id": "rAhh0sS-u05e"
      },
      "source": [
        "data = np.arange(0,20).reshape(5,4)\n",
        "df = pd.DataFrame(data, index = ['Row1','Row2','Row3','Row4','Row5'], columns=[\"Column1\",\"Column2\",\"Column3\",\"Column4\"])"
      ],
      "execution_count": null,
      "outputs": []
    },
    {
      "cell_type": "code",
      "metadata": {
        "colab": {
          "base_uri": "https://localhost:8080/",
          "height": 195
        },
        "id": "wfjDL0m_v-bf",
        "outputId": "d35f1ba5-39c0-43fa-ac23-7328ce9e08fc"
      },
      "source": [
        "df.head()"
      ],
      "execution_count": null,
      "outputs": [
        {
          "output_type": "execute_result",
          "data": {
            "text/html": [
              "<div>\n",
              "<style scoped>\n",
              "    .dataframe tbody tr th:only-of-type {\n",
              "        vertical-align: middle;\n",
              "    }\n",
              "\n",
              "    .dataframe tbody tr th {\n",
              "        vertical-align: top;\n",
              "    }\n",
              "\n",
              "    .dataframe thead th {\n",
              "        text-align: right;\n",
              "    }\n",
              "</style>\n",
              "<table border=\"1\" class=\"dataframe\">\n",
              "  <thead>\n",
              "    <tr style=\"text-align: right;\">\n",
              "      <th></th>\n",
              "      <th>Column1</th>\n",
              "      <th>Column2</th>\n",
              "      <th>Column3</th>\n",
              "      <th>Column4</th>\n",
              "    </tr>\n",
              "  </thead>\n",
              "  <tbody>\n",
              "    <tr>\n",
              "      <th>Row1</th>\n",
              "      <td>0</td>\n",
              "      <td>1</td>\n",
              "      <td>2</td>\n",
              "      <td>3</td>\n",
              "    </tr>\n",
              "    <tr>\n",
              "      <th>Row2</th>\n",
              "      <td>4</td>\n",
              "      <td>5</td>\n",
              "      <td>6</td>\n",
              "      <td>7</td>\n",
              "    </tr>\n",
              "    <tr>\n",
              "      <th>Row3</th>\n",
              "      <td>8</td>\n",
              "      <td>9</td>\n",
              "      <td>10</td>\n",
              "      <td>11</td>\n",
              "    </tr>\n",
              "    <tr>\n",
              "      <th>Row4</th>\n",
              "      <td>12</td>\n",
              "      <td>13</td>\n",
              "      <td>14</td>\n",
              "      <td>15</td>\n",
              "    </tr>\n",
              "    <tr>\n",
              "      <th>Row5</th>\n",
              "      <td>16</td>\n",
              "      <td>17</td>\n",
              "      <td>18</td>\n",
              "      <td>19</td>\n",
              "    </tr>\n",
              "  </tbody>\n",
              "</table>\n",
              "</div>"
            ],
            "text/plain": [
              "      Column1  Column2  Column3  Column4\n",
              "Row1        0        1        2        3\n",
              "Row2        4        5        6        7\n",
              "Row3        8        9       10       11\n",
              "Row4       12       13       14       15\n",
              "Row5       16       17       18       19"
            ]
          },
          "metadata": {
            "tags": []
          },
          "execution_count": 168
        }
      ]
    },
    {
      "cell_type": "code",
      "metadata": {
        "id": "3S6guVA_v__r"
      },
      "source": [
        "# creating csv file\n",
        "df.to_csv('sample1.csv')"
      ],
      "execution_count": null,
      "outputs": []
    },
    {
      "cell_type": "code",
      "metadata": {
        "colab": {
          "base_uri": "https://localhost:8080/"
        },
        "id": "1ZhPS__DwT8y",
        "outputId": "0f27b1a2-1e31-482b-9d41-7a8190eb9dbd"
      },
      "source": [
        "#Acessing elements\n",
        "# 1. .loc[]  2. .iloc[]\n",
        "\n",
        "df.loc['Row1']"
      ],
      "execution_count": null,
      "outputs": [
        {
          "output_type": "execute_result",
          "data": {
            "text/plain": [
              "Column1    0\n",
              "Column2    1\n",
              "Column3    2\n",
              "Column4    3\n",
              "Name: Row1, dtype: int64"
            ]
          },
          "metadata": {
            "tags": []
          },
          "execution_count": 170
        }
      ]
    },
    {
      "cell_type": "code",
      "metadata": {
        "colab": {
          "base_uri": "https://localhost:8080/",
          "height": 195
        },
        "id": "uCKEEaRPwYpD",
        "outputId": "a433e7f9-2bc9-4cc7-9435-0263e938d9b2"
      },
      "source": [
        "df[['Column1','Column2']]"
      ],
      "execution_count": null,
      "outputs": [
        {
          "output_type": "execute_result",
          "data": {
            "text/html": [
              "<div>\n",
              "<style scoped>\n",
              "    .dataframe tbody tr th:only-of-type {\n",
              "        vertical-align: middle;\n",
              "    }\n",
              "\n",
              "    .dataframe tbody tr th {\n",
              "        vertical-align: top;\n",
              "    }\n",
              "\n",
              "    .dataframe thead th {\n",
              "        text-align: right;\n",
              "    }\n",
              "</style>\n",
              "<table border=\"1\" class=\"dataframe\">\n",
              "  <thead>\n",
              "    <tr style=\"text-align: right;\">\n",
              "      <th></th>\n",
              "      <th>Column1</th>\n",
              "      <th>Column2</th>\n",
              "    </tr>\n",
              "  </thead>\n",
              "  <tbody>\n",
              "    <tr>\n",
              "      <th>Row1</th>\n",
              "      <td>0</td>\n",
              "      <td>1</td>\n",
              "    </tr>\n",
              "    <tr>\n",
              "      <th>Row2</th>\n",
              "      <td>4</td>\n",
              "      <td>5</td>\n",
              "    </tr>\n",
              "    <tr>\n",
              "      <th>Row3</th>\n",
              "      <td>8</td>\n",
              "      <td>9</td>\n",
              "    </tr>\n",
              "    <tr>\n",
              "      <th>Row4</th>\n",
              "      <td>12</td>\n",
              "      <td>13</td>\n",
              "    </tr>\n",
              "    <tr>\n",
              "      <th>Row5</th>\n",
              "      <td>16</td>\n",
              "      <td>17</td>\n",
              "    </tr>\n",
              "  </tbody>\n",
              "</table>\n",
              "</div>"
            ],
            "text/plain": [
              "      Column1  Column2\n",
              "Row1        0        1\n",
              "Row2        4        5\n",
              "Row3        8        9\n",
              "Row4       12       13\n",
              "Row5       16       17"
            ]
          },
          "metadata": {
            "tags": []
          },
          "execution_count": 171
        }
      ]
    },
    {
      "cell_type": "code",
      "metadata": {
        "colab": {
          "base_uri": "https://localhost:8080/"
        },
        "id": "g1TRiesEwahv",
        "outputId": "f42bb8f6-8633-42bf-cd92-0fb89349f660"
      },
      "source": [
        "# Indexing\n",
        "df.loc['Row1']['Column3']"
      ],
      "execution_count": null,
      "outputs": [
        {
          "output_type": "execute_result",
          "data": {
            "text/plain": [
              "2"
            ]
          },
          "metadata": {
            "tags": []
          },
          "execution_count": 173
        }
      ]
    },
    {
      "cell_type": "code",
      "metadata": {
        "colab": {
          "base_uri": "https://localhost:8080/",
          "height": 106
        },
        "id": "uBCqX-FzwcIZ",
        "outputId": "ecbc715d-1086-439a-9c7f-616e809eccaa"
      },
      "source": [
        "# .iloc[]\n",
        "\n",
        "df.iloc[0:2,1:2]"
      ],
      "execution_count": null,
      "outputs": [
        {
          "output_type": "execute_result",
          "data": {
            "text/html": [
              "<div>\n",
              "<style scoped>\n",
              "    .dataframe tbody tr th:only-of-type {\n",
              "        vertical-align: middle;\n",
              "    }\n",
              "\n",
              "    .dataframe tbody tr th {\n",
              "        vertical-align: top;\n",
              "    }\n",
              "\n",
              "    .dataframe thead th {\n",
              "        text-align: right;\n",
              "    }\n",
              "</style>\n",
              "<table border=\"1\" class=\"dataframe\">\n",
              "  <thead>\n",
              "    <tr style=\"text-align: right;\">\n",
              "      <th></th>\n",
              "      <th>Column2</th>\n",
              "    </tr>\n",
              "  </thead>\n",
              "  <tbody>\n",
              "    <tr>\n",
              "      <th>Row1</th>\n",
              "      <td>1</td>\n",
              "    </tr>\n",
              "    <tr>\n",
              "      <th>Row2</th>\n",
              "      <td>5</td>\n",
              "    </tr>\n",
              "  </tbody>\n",
              "</table>\n",
              "</div>"
            ],
            "text/plain": [
              "      Column2\n",
              "Row1        1\n",
              "Row2        5"
            ]
          },
          "metadata": {
            "tags": []
          },
          "execution_count": 174
        }
      ]
    },
    {
      "cell_type": "code",
      "metadata": {
        "colab": {
          "base_uri": "https://localhost:8080/",
          "height": 136
        },
        "id": "B3iPJN5XwexE",
        "outputId": "2a3521a2-62c6-4978-cb86-443cec4475ec"
      },
      "source": [
        "df.iloc[1:4,0:2]"
      ],
      "execution_count": null,
      "outputs": [
        {
          "output_type": "execute_result",
          "data": {
            "text/html": [
              "<div>\n",
              "<style scoped>\n",
              "    .dataframe tbody tr th:only-of-type {\n",
              "        vertical-align: middle;\n",
              "    }\n",
              "\n",
              "    .dataframe tbody tr th {\n",
              "        vertical-align: top;\n",
              "    }\n",
              "\n",
              "    .dataframe thead th {\n",
              "        text-align: right;\n",
              "    }\n",
              "</style>\n",
              "<table border=\"1\" class=\"dataframe\">\n",
              "  <thead>\n",
              "    <tr style=\"text-align: right;\">\n",
              "      <th></th>\n",
              "      <th>Column1</th>\n",
              "      <th>Column2</th>\n",
              "    </tr>\n",
              "  </thead>\n",
              "  <tbody>\n",
              "    <tr>\n",
              "      <th>Row2</th>\n",
              "      <td>4</td>\n",
              "      <td>5</td>\n",
              "    </tr>\n",
              "    <tr>\n",
              "      <th>Row3</th>\n",
              "      <td>8</td>\n",
              "      <td>9</td>\n",
              "    </tr>\n",
              "    <tr>\n",
              "      <th>Row4</th>\n",
              "      <td>12</td>\n",
              "      <td>13</td>\n",
              "    </tr>\n",
              "  </tbody>\n",
              "</table>\n",
              "</div>"
            ],
            "text/plain": [
              "      Column1  Column2\n",
              "Row2        4        5\n",
              "Row3        8        9\n",
              "Row4       12       13"
            ]
          },
          "metadata": {
            "tags": []
          },
          "execution_count": 175
        }
      ]
    },
    {
      "cell_type": "code",
      "metadata": {
        "colab": {
          "base_uri": "https://localhost:8080/"
        },
        "id": "uo2zShqIwgE-",
        "outputId": "58e26d73-268d-4618-9a8b-33ee15444fcb"
      },
      "source": [
        "df.iloc[0:3,0]"
      ],
      "execution_count": null,
      "outputs": [
        {
          "output_type": "execute_result",
          "data": {
            "text/plain": [
              "Row1    0\n",
              "Row2    4\n",
              "Row3    8\n",
              "Name: Column1, dtype: int64"
            ]
          },
          "metadata": {
            "tags": []
          },
          "execution_count": 176
        }
      ]
    },
    {
      "cell_type": "code",
      "metadata": {
        "colab": {
          "base_uri": "https://localhost:8080/"
        },
        "id": "ta50JxeSwhcG",
        "outputId": "220b0d8f-c091-4fc9-a2f3-48ab5efe8247"
      },
      "source": [
        "# Converting DataFrame into an array\n",
        "df.iloc[:,:].values"
      ],
      "execution_count": null,
      "outputs": [
        {
          "output_type": "execute_result",
          "data": {
            "text/plain": [
              "array([[ 0,  1,  2,  3],\n",
              "       [ 4,  5,  6,  7],\n",
              "       [ 8,  9, 10, 11],\n",
              "       [12, 13, 14, 15],\n",
              "       [16, 17, 18, 19]])"
            ]
          },
          "metadata": {
            "tags": []
          },
          "execution_count": 177
        }
      ]
    },
    {
      "cell_type": "code",
      "metadata": {
        "colab": {
          "base_uri": "https://localhost:8080/"
        },
        "id": "031R5NzDwjbF",
        "outputId": "a64656c6-dc67-48c5-a97e-a3f0910066c7"
      },
      "source": [
        "# Finding Null values in dataframe\n",
        "df.isnull().sum()"
      ],
      "execution_count": null,
      "outputs": [
        {
          "output_type": "execute_result",
          "data": {
            "text/plain": [
              "Column1    0\n",
              "Column2    0\n",
              "Column3    0\n",
              "Column4    0\n",
              "dtype: int64"
            ]
          },
          "metadata": {
            "tags": []
          },
          "execution_count": 178
        }
      ]
    },
    {
      "cell_type": "markdown",
      "metadata": {
        "id": "KDquI03ZwuPv"
      },
      "source": [
        "<h3>b) Program using matplotlib – use minimum 5 plotting techniques </h3>"
      ]
    },
    {
      "cell_type": "code",
      "metadata": {
        "id": "YnOohmQfwkwY"
      },
      "source": [
        "import matplotlib.pyplot as plt"
      ],
      "execution_count": null,
      "outputs": []
    },
    {
      "cell_type": "markdown",
      "metadata": {
        "id": "UCB2GWkDxD2Q"
      },
      "source": [
        "<h4> Lineplot </h4>"
      ]
    },
    {
      "cell_type": "code",
      "metadata": {
        "colab": {
          "base_uri": "https://localhost:8080/",
          "height": 265
        },
        "id": "FFeVBaFcw_cf",
        "outputId": "110f110a-1f21-4193-b8d0-362e6ba1c43d"
      },
      "source": [
        "plt.plot([1, 2, 3, 4])\n",
        "plt.ylabel('some numbers')\n",
        "plt.show()"
      ],
      "execution_count": null,
      "outputs": [
        {
          "output_type": "display_data",
          "data": {
            "image/png": "[encoded data removed]",
            "text/plain": [
              "<Figure size 432x288 with 1 Axes>"
            ]
          },
          "metadata": {
            "tags": [],
            "needs_background": "light"
          }
        }
      ]
    },
    {
      "cell_type": "markdown",
      "metadata": {
        "id": "8_iHKim4xNKq"
      },
      "source": [
        "<h4> Scatter</h4>"
      ]
    },
    {
      "cell_type": "code",
      "metadata": {
        "colab": {
          "base_uri": "https://localhost:8080/",
          "height": 265
        },
        "id": "E6YEfussxCw2",
        "outputId": "2cdc741a-de46-4613-f683-31a077808685"
      },
      "source": [
        "x = np.random.randint(1,20,5)\n",
        "y = np.random.randint(1,20,5)\n",
        "\n",
        "plt.scatter(x,y)\n",
        "plt.show()"
      ],
      "execution_count": null,
      "outputs": [
        {
          "output_type": "display_data",
          "data": {
            "image/png": "[encoded data removed]",
            "text/plain": [
              "<Figure size 432x288 with 1 Axes>"
            ]
          },
          "metadata": {
            "tags": [],
            "needs_background": "light"
          }
        }
      ]
    },
    {
      "cell_type": "markdown",
      "metadata": {
        "id": "WKpyxtqiy-KI"
      },
      "source": [
        "<h4> Barplot </h4>"
      ]
    },
    {
      "cell_type": "code",
      "metadata": {
        "colab": {
          "base_uri": "https://localhost:8080/",
          "height": 265
        },
        "id": "eIQlMR4zxYai",
        "outputId": "6de3e8d2-cb1f-472e-f280-1ba52122294f"
      },
      "source": [
        "x = np.array([2,5,8,9,0])\n",
        "y = np.array([3,1,8,4,2])\n",
        "plt.bar(x,y)\n",
        "plt.show()"
      ],
      "execution_count": null,
      "outputs": [
        {
          "output_type": "display_data",
          "data": {
            "image/png": "[encoded data removed]",
            "text/plain": [
              "<Figure size 432x288 with 1 Axes>"
            ]
          },
          "metadata": {
            "tags": [],
            "needs_background": "light"
          }
        }
      ]
    },
    {
      "cell_type": "markdown",
      "metadata": {
        "id": "Mpe-5UMlVEJQ"
      },
      "source": [
        "<br><br><br><br><br>"
      ]
    },
    {
      "cell_type": "markdown",
      "metadata": {
        "id": "a-ZcEioB0rZk"
      },
      "source": [
        "<h4> Pie chart</h4>"
      ]
    },
    {
      "cell_type": "code",
      "metadata": {
        "colab": {
          "base_uri": "https://localhost:8080/",
          "height": 248
        },
        "id": "EWBGGPj7zG6s",
        "outputId": "db43f167-b174-4eec-96fa-e8ee78f5e886"
      },
      "source": [
        "cost = np.array([10, 32, 30, 35])\n",
        "products = [\"oil\", \"curd\", \"milk\", \"Bread\"]\n",
        "\n",
        "plt.pie(cost, labels = products, startangle = 90)\n",
        "plt.show() "
      ],
      "execution_count": null,
      "outputs": [
        {
          "output_type": "display_data",
          "data": {
            "image/png": "[encoded data removed]",
            "text/plain": [
              "<Figure size 432x288 with 1 Axes>"
            ]
          },
          "metadata": {
            "tags": []
          }
        }
      ]
    },
    {
      "cell_type": "markdown",
      "metadata": {
        "id": "ChIdbqHS1Tqc"
      },
      "source": [
        "<h4> Histogram </h4>"
      ]
    },
    {
      "cell_type": "code",
      "metadata": {
        "colab": {
          "base_uri": "https://localhost:8080/",
          "height": 265
        },
        "id": "ZWk8uYfDzVuo",
        "outputId": "44b9b364-cf3b-4e11-cbf6-881fc3db8e9c"
      },
      "source": [
        "x = np.random.normal(100, 10, 250)\n",
        "\n",
        "plt.hist(x)\n",
        "plt.show() "
      ],
      "execution_count": null,
      "outputs": [
        {
          "output_type": "display_data",
          "data": {
            "image/png": "[encoded data removed]",
            "text/plain": [
              "<Figure size 432x288 with 1 Axes>"
            ]
          },
          "metadata": {
            "tags": [],
            "needs_background": "light"
          }
        }
      ]
    },
    {
      "cell_type": "markdown",
      "metadata": {
        "id": "s0JU4hJj4Drf"
      },
      "source": [
        "#**Exercise 9**"
      ]
    },
    {
      "cell_type": "markdown",
      "metadata": {
        "id": "trn_KmbC3zkT"
      },
      "source": [
        "<h3> a) Graph using matplotlib </h3>"
      ]
    },
    {
      "cell_type": "code",
      "metadata": {
        "colab": {
          "base_uri": "https://localhost:8080/",
          "height": 265
        },
        "id": "NI5SDDlc1SoP",
        "outputId": "cfb4db34-b9bd-4562-fe1e-68991a924d81"
      },
      "source": [
        "x=np.random.random((10,1))\n",
        "plt.plot(x,'.-')\n",
        "plt.grid()\n",
        "plt.show()"
      ],
      "execution_count": null,
      "outputs": [
        {
          "output_type": "display_data",
          "data": {
            "image/png": "[encoded data removed]",
            "text/plain": [
              "<Figure size 432x288 with 1 Axes>"
            ]
          },
          "metadata": {
            "tags": [],
            "needs_background": "light"
          }
        }
      ]
    },
    {
      "cell_type": "markdown",
      "metadata": {
        "id": "RRkuNl1WVGJT"
      },
      "source": [
        "<br><br><br>"
      ]
    },
    {
      "cell_type": "code",
      "metadata": {
        "colab": {
          "base_uri": "https://localhost:8080/",
          "height": 256
        },
        "id": "MZXCqlw916R8",
        "outputId": "5108ee6e-9d4e-4eae-ccf9-10bbb4c06ca9"
      },
      "source": [
        "activities = ['eat', 'sleep', 'work', 'play']\n",
        "  \n",
        "slices = [3, 7, 8, 6]  \n",
        "\n",
        "colors = ['r', 'y', 'g', 'b']\n",
        "  \n",
        "plt.pie(slices, labels = activities, colors=colors, \n",
        "        startangle=90, shadow = True, explode = (0, 0, 0.1, 0),\n",
        "        radius = 1.2, autopct = '%1.1f%%')\n",
        "  \n",
        "plt.legend()\n",
        "plt.show()"
      ],
      "execution_count": null,
      "outputs": [
        {
          "output_type": "display_data",
          "data": {
            "image/png": "[encoded data removed]",
            "text/plain": [
              "<Figure size 432x288 with 1 Axes>"
            ]
          },
          "metadata": {
            "tags": []
          }
        }
      ]
    },
    {
      "cell_type": "code",
      "metadata": {
        "colab": {
          "base_uri": "https://localhost:8080/",
          "height": 265
        },
        "id": "OGXECe_62-mm",
        "outputId": "8b03729f-c1d0-4d49-ee01-e12f78907c4c"
      },
      "source": [
        "import math\n",
        "x = np.linspace(0,2*math.pi,100)\n",
        "y = np.sin(x)\n",
        "plt.plot(x,y)\n",
        "plt.grid()"
      ],
      "execution_count": null,
      "outputs": [
        {
          "output_type": "display_data",
          "data": {
            "image/png": "[encoded data removed]",
            "text/plain": [
              "<Figure size 432x288 with 1 Axes>"
            ]
          },
          "metadata": {
            "tags": [],
            "needs_background": "light"
          }
        }
      ]
    },
    {
      "cell_type": "markdown",
      "metadata": {
        "id": "1NrIIWpLVHoX"
      },
      "source": [
        "<br><br><br><br>"
      ]
    },
    {
      "cell_type": "code",
      "metadata": {
        "colab": {
          "base_uri": "https://localhost:8080/",
          "height": 282
        },
        "id": "H_Hw2L_-3p-g",
        "outputId": "0b9d12a1-3386-4f94-d499-b3776fd8c78c"
      },
      "source": [
        "x = np.arange(0,4*np.pi,0.1)\n",
        "plt.plot(x,np.sin(x))\n",
        "plt.axhline(y=0)\n",
        "plt.axvline(x=2*np.pi)"
      ],
      "execution_count": null,
      "outputs": [
        {
          "output_type": "execute_result",
          "data": {
            "text/plain": [
              "<matplotlib.lines.Line2D at 0x7f9fe6595ed0>"
            ]
          },
          "metadata": {
            "tags": []
          },
          "execution_count": 200
        },
        {
          "output_type": "display_data",
          "data": {
            "image/png": "[encoded data removed]",
            "text/plain": [
              "<Figure size 432x288 with 1 Axes>"
            ]
          },
          "metadata": {
            "tags": [],
            "needs_background": "light"
          }
        }
      ]
    },
    {
      "cell_type": "code",
      "metadata": {
        "id": "zvE0tZYF3v3s"
      },
      "source": [
        ""
      ],
      "execution_count": null,
      "outputs": []
    },
    {
      "cell_type": "markdown",
      "metadata": {
        "id": "JKBfQ4FP4RxK"
      },
      "source": [
        "#**Exercise 10**"
      ]
    },
    {
      "cell_type": "markdown",
      "metadata": {
        "id": "F_fz-vQ-4X5t"
      },
      "source": [
        "<h3> a) Vector using matplotlib</h3>"
      ]
    },
    {
      "cell_type": "code",
      "metadata": {
        "id": "OyTZ3fabzKcw"
      },
      "source": [
        "import matplotlib.pyplot as plt"
      ],
      "execution_count": null,
      "outputs": []
    },
    {
      "cell_type": "code",
      "metadata": {
        "colab": {
          "base_uri": "https://localhost:8080/",
          "height": 281
        },
        "id": "22dRNA9H4U9h",
        "outputId": "9281499c-634c-4c23-8441-e22504c6ef2e"
      },
      "source": [
        "X = [0]\n",
        "Y = [0]\n",
        "  \n",
        "U = [2]  \n",
        "V = [1]  \n",
        "plt.quiver(X, Y, U, V, color='b', units='xy', scale=1)\n",
        "plt.title('Single Vector')\n",
        "  \n",
        "plt.xlim(-2, 5)\n",
        "plt.ylim(-2, 2.5)\n",
        "  \n",
        "plt.grid()\n",
        "plt.show()"
      ],
      "execution_count": null,
      "outputs": [
        {
          "output_type": "display_data",
          "data": {
            "image/png": "[encoded data removed]",
            "text/plain": [
              "<Figure size 432x288 with 1 Axes>"
            ]
          },
          "metadata": {
            "tags": [],
            "needs_background": "light"
          }
        }
      ]
    },
    {
      "cell_type": "code",
      "metadata": {
        "colab": {
          "base_uri": "https://localhost:8080/",
          "height": 269
        },
        "id": "Ul7QDWuh5KnJ",
        "outputId": "14df33e6-43dc-4460-9a7b-679fdefd9b48"
      },
      "source": [
        "plt.quiver(0,0,3,4,scale_units='xy', angles='xy', scale=1, color='r')\n",
        "plt.quiver(0,0,-3,4,scale_units='xy', angles='xy', scale=1, color='g')\n",
        "plt.xlim(-10,10)\n",
        "plt.ylim(-10,10)\n",
        "plt.grid()"
      ],
      "execution_count": null,
      "outputs": [
        {
          "output_type": "display_data",
          "data": {
            "image/png": "[encoded data removed]",
            "text/plain": [
              "<Figure size 432x288 with 1 Axes>"
            ]
          },
          "metadata": {
            "tags": [],
            "needs_background": "light"
          }
        }
      ]
    },
    {
      "cell_type": "markdown",
      "metadata": {
        "id": "mntpYl7_VJCn"
      },
      "source": [
        "<br><br><br><br><br>"
      ]
    },
    {
      "cell_type": "code",
      "metadata": {
        "colab": {
          "base_uri": "https://localhost:8080/",
          "height": 269
        },
        "id": "PkQ3J9xo6t5E",
        "outputId": "c9cad7e2-64b9-4b36-d0ea-8955a8c037bd"
      },
      "source": [
        "plt.quiver(0,0,3,4,scale_units='xy', angles='xy', scale=1, color='r')\n",
        "plt.quiver(0,0,-3,4,scale_units='xy', angles='xy', scale=1, color='b')\n",
        "plt.quiver(0,0,-3,-2,scale_units='xy', angles='xy', scale=1, color='g')\n",
        "plt.quiver(0,0,4,-1,scale_units='xy', angles='xy', scale=1, color='y')\n",
        "plt.xlim(-10,10)\n",
        "plt.ylim(-10,10)\n",
        "plt.grid()"
      ],
      "execution_count": null,
      "outputs": [
        {
          "output_type": "display_data",
          "data": {
            "image/png": "[encoded data removed]",
            "text/plain": [
              "<Figure size 432x288 with 1 Axes>"
            ]
          },
          "metadata": {
            "tags": [],
            "needs_background": "light"
          }
        }
      ]
    },
    {
      "cell_type": "code",
      "metadata": {
        "id": "Cne8xeq-7QnY"
      },
      "source": [
        ""
      ],
      "execution_count": null,
      "outputs": []
    }
  ]
}